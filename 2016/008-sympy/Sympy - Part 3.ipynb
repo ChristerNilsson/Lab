{
 "cells": [
  {
   "cell_type": "code",
   "execution_count": 21,
   "metadata": {
    "collapsed": true
   },
   "outputs": [],
   "source": [
    "from sympy import *\n",
    "import numpy as np\n",
    "import pylab\n",
    "init_printing()"
   ]
  },
  {
   "cell_type": "code",
   "execution_count": 2,
   "metadata": {
    "collapsed": false
   },
   "outputs": [
    {
     "data": {
      "image/png": "[encoded data removed]",
      "text/latex": [
       "$$- \\cos{\\left (x \\right )}$$"
      ],
      "text/plain": [
       "-cos(x)"
      ]
     },
     "execution_count": 2,
     "metadata": {},
     "output_type": "execute_result"
    }
   ],
   "source": [
    "n,x,y,z,mu,sigma = symbols('n,x,y,z,mu,sigma')\n",
    "integrate(sin(x),x)"
   ]
  },
  {
   "cell_type": "code",
   "execution_count": 3,
   "metadata": {
    "collapsed": false
   },
   "outputs": [
    {
     "data": {
      "image/png": "[encoded data removed]",
      "text/latex": [
       "$$2$$"
      ],
      "text/plain": [
       "2"
      ]
     },
     "execution_count": 3,
     "metadata": {},
     "output_type": "execute_result"
    }
   ],
   "source": [
    "integrate(sin(x),(x,0,pi))"
   ]
  },
  {
   "cell_type": "code",
   "execution_count": 4,
   "metadata": {
    "collapsed": false
   },
   "outputs": [
    {
     "data": {
      "image/png": "[encoded data removed]",
      "text/latex": [
       "$$\\frac{y^{6}}{6} + 3 y^{4} - y^{2} + y$$"
      ],
      "text/plain": [
       " 6                \n",
       "y       4    2    \n",
       "── + 3⋅y  - y  + y\n",
       "6                 "
      ]
     },
     "execution_count": 4,
     "metadata": {},
     "output_type": "execute_result"
    }
   ],
   "source": [
    "integrate(x**5+12*x**3-2*x+1,(x,0,y))"
   ]
  },
  {
   "cell_type": "code",
   "execution_count": 6,
   "metadata": {
    "collapsed": false
   },
   "outputs": [
    {
     "data": {
      "image/png": "[encoded data removed]",
      "text/latex": [
       "$$- \\frac{i \\sigma}{2} \\sqrt{\\pi} \\operatorname{erf}{\\left (\\frac{i}{\\sigma} \\left(- \\mu + x\\right) \\right )}$$"
      ],
      "text/plain": [
       "           ⎛ⅈ⋅(-μ + x)⎞ \n",
       "-ⅈ⋅√π⋅σ⋅erf⎜──────────⎟ \n",
       "           ⎝    σ     ⎠ \n",
       "────────────────────────\n",
       "           2            "
      ]
     },
     "execution_count": 6,
     "metadata": {},
     "output_type": "execute_result"
    }
   ],
   "source": [
    "integrate(exp((x-mu)**2/sigma**2),x)"
   ]
  },
  {
   "cell_type": "code",
   "execution_count": 9,
   "metadata": {
    "collapsed": false
   },
   "outputs": [
    {
     "data": {
      "text/latex": [
       "$$\\left[\\begin{matrix}\\frac{x y}{- x y + 1} + 1 & - \\frac{x}{- x y + 1}\\\\- \\frac{y}{- x y + 1} & \\frac{1}{- x y + 1}\\end{matrix}\\right]$$"
      ],
      "text/plain": [
       "⎡  x⋅y           -x    ⎤\n",
       "⎢──────── + 1  ────────⎥\n",
       "⎢-x⋅y + 1      -x⋅y + 1⎥\n",
       "⎢                      ⎥\n",
       "⎢    -y           1    ⎥\n",
       "⎢  ────────    ────────⎥\n",
       "⎣  -x⋅y + 1    -x⋅y + 1⎦"
      ]
     },
     "execution_count": 9,
     "metadata": {},
     "output_type": "execute_result"
    }
   ],
   "source": [
    "m = Matrix([[1,x],[y,1]])\n",
    "m.inv()"
   ]
  },
  {
   "cell_type": "code",
   "execution_count": 10,
   "metadata": {
    "collapsed": false
   },
   "outputs": [
    {
     "data": {
      "image/png": "[encoded data removed]",
      "text/latex": [
       "$$- x y + 1$$"
      ],
      "text/plain": [
       "-x⋅y + 1"
      ]
     },
     "execution_count": 10,
     "metadata": {},
     "output_type": "execute_result"
    }
   ],
   "source": [
    "m.det()"
   ]
  },
  {
   "cell_type": "code",
   "execution_count": 11,
   "metadata": {
    "collapsed": false
   },
   "outputs": [
    {
     "data": {
      "text/latex": [
       "$$\\left[\\begin{matrix}1 & 0\\\\0 & 1\\end{matrix}\\right]$$"
      ],
      "text/plain": [
       "⎡1  0⎤\n",
       "⎢    ⎥\n",
       "⎣0  1⎦"
      ]
     },
     "execution_count": 11,
     "metadata": {},
     "output_type": "execute_result"
    }
   ],
   "source": [
    "simplify(m * m.inv())"
   ]
  },
  {
   "cell_type": "code",
   "execution_count": 12,
   "metadata": {
    "collapsed": false
   },
   "outputs": [
    {
     "data": {
      "image/png": "[encoded data removed]",
      "text/latex": [
       "$$\\left \\{ - \\sqrt{x y} + 1 : 1, \\quad \\sqrt{x y} + 1 : 1\\right \\}$$"
      ],
      "text/plain": [
       "⎧    _____           _____       ⎫\n",
       "⎨- ╲╱ x⋅y  + 1: 1, ╲╱ x⋅y  + 1: 1⎬\n",
       "⎩                                ⎭"
      ]
     },
     "execution_count": 12,
     "metadata": {},
     "output_type": "execute_result"
    }
   ],
   "source": [
    "m.eigenvals()"
   ]
  },
  {
   "cell_type": "code",
   "execution_count": 13,
   "metadata": {
    "collapsed": false
   },
   "outputs": [
    {
     "data": {
      "text/latex": [
       "$$\\left [ \\left ( - \\sqrt{x y} + 1, \\quad 1, \\quad \\left [ \\left[\\begin{matrix}- \\frac{x}{\\sqrt{x y}}\\\\1\\end{matrix}\\right]\\right ]\\right ), \\quad \\left ( \\sqrt{x y} + 1, \\quad 1, \\quad \\left [ \\left[\\begin{matrix}\\frac{x}{\\sqrt{x y}}\\\\1\\end{matrix}\\right]\\right ]\\right )\\right ]$$"
      ],
      "text/plain": [
       "⎡⎛    _____         ⎡⎡  -x   ⎤⎤⎞  ⎛  _____         ⎡⎡   x   ⎤⎤⎞⎤\n",
       "⎢⎜- ╲╱ x⋅y  + 1, 1, ⎢⎢───────⎥⎥⎟, ⎜╲╱ x⋅y  + 1, 1, ⎢⎢───────⎥⎥⎟⎥\n",
       "⎢⎜                  ⎢⎢  _____⎥⎥⎟  ⎜                ⎢⎢  _____⎥⎥⎟⎥\n",
       "⎢⎜                  ⎢⎢╲╱ x⋅y ⎥⎥⎟  ⎜                ⎢⎢╲╱ x⋅y ⎥⎥⎟⎥\n",
       "⎢⎜                  ⎢⎢       ⎥⎥⎟  ⎜                ⎢⎢       ⎥⎥⎟⎥\n",
       "⎣⎝                  ⎣⎣   1   ⎦⎦⎠  ⎝                ⎣⎣   1   ⎦⎦⎠⎦"
      ]
     },
     "execution_count": 13,
     "metadata": {},
     "output_type": "execute_result"
    }
   ],
   "source": [
    "m.eigenvects()"
   ]
  },
  {
   "cell_type": "code",
   "execution_count": 14,
   "metadata": {
    "collapsed": false
   },
   "outputs": [
    {
     "data": {
      "image/png": "[encoded data removed]",
      "text/latex": [
       "$$3.14$$"
      ],
      "text/plain": [
       "3.14"
      ]
     },
     "execution_count": 14,
     "metadata": {},
     "output_type": "execute_result"
    }
   ],
   "source": [
    "pi.evalf(3)"
   ]
  },
  {
   "cell_type": "code",
   "execution_count": 15,
   "metadata": {
    "collapsed": false
   },
   "outputs": [
    {
     "data": {
      "image/png": "[encoded data removed]",
      "text/latex": [
       "$$\\int_{y}^{z} x^{n}\\, dx$$"
      ],
      "text/plain": [
       "z      \n",
       "⌠      \n",
       "⎮  n   \n",
       "⎮ x  dx\n",
       "⌡      \n",
       "y      "
      ]
     },
     "execution_count": 15,
     "metadata": {},
     "output_type": "execute_result"
    }
   ],
   "source": [
    "result = integrate(x**n,(x,y,z))\n",
    "result"
   ]
  },
  {
   "cell_type": "code",
   "execution_count": 16,
   "metadata": {
    "collapsed": false
   },
   "outputs": [
    {
     "data": {
      "image/png": "[encoded data removed]",
      "text/latex": [
       "$$9.0$$"
      ],
      "text/plain": [
       "9.00000000000000"
      ]
     },
     "execution_count": 16,
     "metadata": {},
     "output_type": "execute_result"
    }
   ],
   "source": [
    "result.subs({n:2, y:0, z:3}).evalf()"
   ]
  },
  {
   "cell_type": "code",
   "execution_count": 17,
   "metadata": {
    "collapsed": false
   },
   "outputs": [
    {
     "data": {
      "image/png": "[encoded data removed]",
      "text/latex": [
       "$$2.99573227355399$$"
      ],
      "text/plain": [
       "2.99573227355399"
      ]
     },
     "execution_count": 17,
     "metadata": {},
     "output_type": "execute_result"
    }
   ],
   "source": [
    "result.subs({n:-1, y:5, z:100}).evalf()"
   ]
  },
  {
   "cell_type": "code",
   "execution_count": 18,
   "metadata": {
    "collapsed": false
   },
   "outputs": [
    {
     "data": {
      "image/png": "[encoded data removed]",
      "text/latex": [
       "$$\\frac{8 x}{3} \\left(- 4 x + 4\\right) e^{- 2 x}$$"
      ],
      "text/plain": [
       "                -2⋅x\n",
       "8⋅x⋅(-4⋅x + 4)⋅ℯ    \n",
       "────────────────────\n",
       "         3          "
      ]
     },
     "execution_count": 18,
     "metadata": {},
     "output_type": "execute_result"
    }
   ],
   "source": [
    "from sympy.physics.hydrogen import R_nl\n",
    "n=3\n",
    "l=1\n",
    "r=6\n",
    "expr = R_nl(n,l,x,r)\n",
    "expr"
   ]
  },
  {
   "cell_type": "code",
   "execution_count": 19,
   "metadata": {
    "collapsed": false
   },
   "outputs": [
    {
     "data": {
      "image/png": "[encoded data removed]",
      "text/latex": [
       "$$-0.390733629626$$"
      ],
      "text/plain": [
       "-0.390733629626"
      ]
     },
     "execution_count": 19,
     "metadata": {},
     "output_type": "execute_result"
    }
   ],
   "source": [
    "f = lambdify(x, expr, 'numpy')\n",
    "f(2)"
   ]
  },
  {
   "cell_type": "code",
   "execution_count": null,
   "metadata": {
    "collapsed": false
   },
   "outputs": [],
   "source": [
    "from matplotlib.pyplot import plot\n",
    "nx = np.linspace(0,5,1000)\n",
    "plot(nx,f(nx))\n",
    "pylab.show()"
   ]
  },
  {
   "cell_type": "code",
   "execution_count": 26,
   "metadata": {
    "collapsed": false
   },
   "outputs": [
    {
     "data": {
      "image/png": "[encoded data removed]",
      "text/latex": [
       "$$x \\cos{\\left (x \\right )} + \\sin{\\left (x \\right )}$$"
      ],
      "text/plain": [
       "x⋅cos(x) + sin(x)"
      ]
     },
     "execution_count": 26,
     "metadata": {},
     "output_type": "execute_result"
    }
   ],
   "source": [
    "expr = x * sin(x)\n",
    "expr.diff(x)"
   ]
  },
  {
   "cell_type": "code",
   "execution_count": 29,
   "metadata": {
    "collapsed": false
   },
   "outputs": [],
   "source": [
    "fprime = lambdify(x, expr.diff(x), 'numpy')\n",
    "plot(nx,f(nx))\n",
    "plot(nx,fprime(nx))\n",
    "pylab.show()"
   ]
  },
  {
   "cell_type": "code",
   "execution_count": 30,
   "metadata": {
    "collapsed": false
   },
   "outputs": [
    {
     "data": {
      "image/png": "[encoded data removed]",
      "text/latex": [
       "$$1 - \\frac{x^{2}}{2} + \\frac{x^{4}}{24} - \\frac{x^{6}}{720} + \\frac{x^{8}}{40320} + \\mathcal{O}\\left(x^{10}\\right)$$"
      ],
      "text/plain": [
       "     2    4     6      8          \n",
       "    x    x     x      x      ⎛ 10⎞\n",
       "1 - ── + ── - ─── + ───── + O⎝x  ⎠\n",
       "    2    24   720   40320         "
      ]
     },
     "execution_count": 30,
     "metadata": {},
     "output_type": "execute_result"
    }
   ],
   "source": [
    "cos(x).series(x,0,10)"
   ]
  },
  {
   "cell_type": "code",
   "execution_count": 34,
   "metadata": {
    "collapsed": false
   },
   "outputs": [],
   "source": [
    "def fib(n):\n",
    "    return (x/(1-x-x**2)).series(x,0,n+1).removeO().coeff(x,n)"
   ]
  },
  {
   "cell_type": "code",
   "execution_count": 36,
   "metadata": {
    "collapsed": false
   },
   "outputs": [
    {
     "data": {
      "image/png": "[encoded data removed]",
      "text/latex": [
       "$$3$$"
      ],
      "text/plain": [
       "3"
      ]
     },
     "execution_count": 36,
     "metadata": {},
     "output_type": "execute_result"
    }
   ],
   "source": [
    "fib(4)"
   ]
  },
  {
   "cell_type": "code",
   "execution_count": 37,
   "metadata": {
    "collapsed": false
   },
   "outputs": [
    {
     "data": {
      "image/png": "[encoded data removed]",
      "text/latex": [
       "$$34$$"
      ],
      "text/plain": [
       "34"
      ]
     },
     "execution_count": 37,
     "metadata": {},
     "output_type": "execute_result"
    }
   ],
   "source": [
    "fib(9)"
   ]
  },
  {
   "cell_type": "code",
   "execution_count": 39,
   "metadata": {
    "collapsed": true
   },
   "outputs": [],
   "source": [
    "#stats"
   ]
  },
  {
   "cell_type": "code",
   "execution_count": 41,
   "metadata": {
    "collapsed": false
   },
   "outputs": [
    {
     "ename": "CodeWrapError",
     "evalue": "Error while executing command: C:\\Anaconda\\python.exe setup.py build_ext --inplace. Command output is:\nrunning build_ext\r\nrunning build_src\r\nbuild_src\r\nbuilding extension \"wrapper_module_0\" sources\r\nbuild_src: building npy-pkg config files\r\nNo module named msvccompiler in numpy.distutils; trying from distutils\r\ncustomize MSVCCompiler\r\ncustomize MSVCCompiler using build_ext\r\nbuilding 'wrapper_module_0' extension\r\ncompiling C sources\r\nerror: Unable to find vcvarsall.bat\r\n",
     "output_type": "error",
     "traceback": [
      "\u001b[1;31m---------------------------------------------------------------------------\u001b[0m",
      "\u001b[1;31mCodeWrapError\u001b[0m                             Traceback (most recent call last)",
      "\u001b[1;32m<ipython-input-41-53c56179a3ba>\u001b[0m in \u001b[0;36m<module>\u001b[1;34m()\u001b[0m\n\u001b[0;32m      1\u001b[0m \u001b[1;32mfrom\u001b[0m \u001b[0msympy\u001b[0m\u001b[1;33m.\u001b[0m\u001b[0mutilities\u001b[0m\u001b[1;33m.\u001b[0m\u001b[0mautowrap\u001b[0m \u001b[1;32mimport\u001b[0m \u001b[0mufuncify\u001b[0m\u001b[1;33m\u001b[0m\u001b[0m\n\u001b[1;32m----> 2\u001b[1;33m \u001b[0mfn_fortran\u001b[0m \u001b[1;33m=\u001b[0m \u001b[0mufuncify\u001b[0m\u001b[1;33m(\u001b[0m\u001b[1;33m[\u001b[0m\u001b[0mx\u001b[0m\u001b[1;33m]\u001b[0m\u001b[1;33m,\u001b[0m \u001b[0mexpr\u001b[0m\u001b[1;33m)\u001b[0m\u001b[1;33m\u001b[0m\u001b[0m\n\u001b[0m",
      "\u001b[1;32mC:\\Anaconda\\lib\\site-packages\\sympy\\utilities\\autowrap.py\u001b[0m in \u001b[0;36mufuncify\u001b[1;34m(args, expr, language, backend, tempdir, flags, verbose, helpers)\u001b[0m\n\u001b[0;32m    886\u001b[0m         code_wrapper = UfuncifyCodeWrapper(CCodeGen(\"ufuncify\"), tempdir,\n\u001b[0;32m    887\u001b[0m                                            flags, verbose)\n\u001b[1;32m--> 888\u001b[1;33m         \u001b[1;32mreturn\u001b[0m \u001b[0mcode_wrapper\u001b[0m\u001b[1;33m.\u001b[0m\u001b[0mwrap_code\u001b[0m\u001b[1;33m(\u001b[0m\u001b[0mroutine\u001b[0m\u001b[1;33m,\u001b[0m \u001b[0mhelpers\u001b[0m\u001b[1;33m=\u001b[0m\u001b[0mhelps\u001b[0m\u001b[1;33m)\u001b[0m\u001b[1;33m\u001b[0m\u001b[0m\n\u001b[0m\u001b[0;32m    889\u001b[0m     \u001b[1;32melse\u001b[0m\u001b[1;33m:\u001b[0m\u001b[1;33m\u001b[0m\u001b[0m\n\u001b[0;32m    890\u001b[0m         \u001b[1;31m# Dummies are used for all added expressions to prevent name clashes\u001b[0m\u001b[1;33m\u001b[0m\u001b[1;33m\u001b[0m\u001b[0m\n",
      "\u001b[1;32mC:\\Anaconda\\lib\\site-packages\\sympy\\utilities\\autowrap.py\u001b[0m in \u001b[0;36mwrap_code\u001b[1;34m(self, routine, helpers)\u001b[0m\n\u001b[0;32m    142\u001b[0m             \u001b[0mself\u001b[0m\u001b[1;33m.\u001b[0m\u001b[0m_generate_code\u001b[0m\u001b[1;33m(\u001b[0m\u001b[0mroutine\u001b[0m\u001b[1;33m,\u001b[0m \u001b[0mhelpers\u001b[0m\u001b[1;33m)\u001b[0m\u001b[1;33m\u001b[0m\u001b[0m\n\u001b[0;32m    143\u001b[0m             \u001b[0mself\u001b[0m\u001b[1;33m.\u001b[0m\u001b[0m_prepare_files\u001b[0m\u001b[1;33m(\u001b[0m\u001b[0mroutine\u001b[0m\u001b[1;33m)\u001b[0m\u001b[1;33m\u001b[0m\u001b[0m\n\u001b[1;32m--> 144\u001b[1;33m             \u001b[0mself\u001b[0m\u001b[1;33m.\u001b[0m\u001b[0m_process_files\u001b[0m\u001b[1;33m(\u001b[0m\u001b[0mroutine\u001b[0m\u001b[1;33m)\u001b[0m\u001b[1;33m\u001b[0m\u001b[0m\n\u001b[0m\u001b[0;32m    145\u001b[0m             \u001b[0mmod\u001b[0m \u001b[1;33m=\u001b[0m \u001b[0m__import__\u001b[0m\u001b[1;33m(\u001b[0m\u001b[0mself\u001b[0m\u001b[1;33m.\u001b[0m\u001b[0mmodule_name\u001b[0m\u001b[1;33m)\u001b[0m\u001b[1;33m\u001b[0m\u001b[0m\n\u001b[0;32m    146\u001b[0m         \u001b[1;32mfinally\u001b[0m\u001b[1;33m:\u001b[0m\u001b[1;33m\u001b[0m\u001b[0m\n",
      "\u001b[1;32mC:\\Anaconda\\lib\\site-packages\\sympy\\utilities\\autowrap.py\u001b[0m in \u001b[0;36m_process_files\u001b[1;34m(self, routine)\u001b[0m\n\u001b[0;32m    165\u001b[0m             raise CodeWrapError(\n\u001b[0;32m    166\u001b[0m                 \"Error while executing command: %s. Command output is:\\n%s\" % (\n\u001b[1;32m--> 167\u001b[1;33m                     \" \".join(command), e.output.decode()))\n\u001b[0m\u001b[0;32m    168\u001b[0m         \u001b[1;32mif\u001b[0m \u001b[1;32mnot\u001b[0m \u001b[0mself\u001b[0m\u001b[1;33m.\u001b[0m\u001b[0mquiet\u001b[0m\u001b[1;33m:\u001b[0m\u001b[1;33m\u001b[0m\u001b[0m\n\u001b[0;32m    169\u001b[0m             \u001b[1;32mprint\u001b[0m\u001b[1;33m(\u001b[0m\u001b[0mretoutput\u001b[0m\u001b[1;33m)\u001b[0m\u001b[1;33m\u001b[0m\u001b[0m\n",
      "\u001b[1;31mCodeWrapError\u001b[0m: Error while executing command: C:\\Anaconda\\python.exe setup.py build_ext --inplace. Command output is:\nrunning build_ext\r\nrunning build_src\r\nbuild_src\r\nbuilding extension \"wrapper_module_0\" sources\r\nbuild_src: building npy-pkg config files\r\nNo module named msvccompiler in numpy.distutils; trying from distutils\r\ncustomize MSVCCompiler\r\ncustomize MSVCCompiler using build_ext\r\nbuilding 'wrapper_module_0' extension\r\ncompiling C sources\r\nerror: Unable to find vcvarsall.bat\r\n"
     ]
    }
   ],
   "source": [
    "from sympy.utilities.autowrap import ufuncify\n",
    "#fn_fortran = ufuncify([x], expr)"
   ]
  },
  {
   "cell_type": "code",
   "execution_count": null,
   "metadata": {
    "collapsed": true
   },
   "outputs": [],
   "source": []
  }
 ],
 "metadata": {
  "kernelspec": {
   "display_name": "Python 2",
   "language": "python",
   "name": "python2"
  },
  "language_info": {
   "codemirror_mode": {
    "name": "ipython",
    "version": 2
   },
   "file_extension": ".py",
   "mimetype": "text/x-python",
   "name": "python",
   "nbconvert_exporter": "python",
   "pygments_lexer": "ipython2",
   "version": "2.7.11"
  }
 },
 "nbformat": 4,
 "nbformat_minor": 0
}
