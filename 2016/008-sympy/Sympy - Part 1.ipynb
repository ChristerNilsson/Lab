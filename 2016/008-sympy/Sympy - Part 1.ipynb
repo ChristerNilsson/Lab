{
 "cells": [
  {
   "cell_type": "code",
   "execution_count": 3,
   "metadata": {
    "collapsed": true
   },
   "outputs": [],
   "source": [
    "from sympy import *\n",
    "init_printing()"
   ]
  },
  {
   "cell_type": "code",
   "execution_count": 4,
   "metadata": {
    "collapsed": true
   },
   "outputs": [],
   "source": [
    "x,y,z = symbols('x,y,z')\n",
    "alpha,beta,gamma = symbols('alpha,beta,gamma')"
   ]
  },
  {
   "cell_type": "code",
   "execution_count": 6,
   "metadata": {
    "collapsed": false
   },
   "outputs": [
    {
     "data": {
      "image/png": "[encoded data removed]",
      "text/latex": [
       "$$x + 1$$"
      ],
      "text/plain": [
       "x + 1"
      ]
     },
     "execution_count": 6,
     "metadata": {},
     "output_type": "execute_result"
    }
   ],
   "source": [
    "x+1"
   ]
  },
  {
   "cell_type": "code",
   "execution_count": 8,
   "metadata": {
    "collapsed": false
   },
   "outputs": [
    {
     "data": {
      "image/png": "[encoded data removed]",
      "text/latex": [
       "$$\\gamma + \\log{\\left (\\alpha^{\\beta} \\right )}$$"
      ],
      "text/plain": [
       "       ⎛ β⎞\n",
       "γ + log⎝α ⎠"
      ]
     },
     "execution_count": 8,
     "metadata": {},
     "output_type": "execute_result"
    }
   ],
   "source": [
    "log(alpha ** beta) + gamma"
   ]
  },
  {
   "cell_type": "code",
   "execution_count": 10,
   "metadata": {
    "collapsed": false
   },
   "outputs": [
    {
     "data": {
      "image/png": "[encoded data removed]",
      "text/latex": [
       "$$\\sin^{2}{\\left (x \\right )} + \\cos^{2}{\\left (x \\right )}$$"
      ],
      "text/plain": [
       "   2         2   \n",
       "sin (x) + cos (x)"
      ]
     },
     "execution_count": 10,
     "metadata": {},
     "output_type": "execute_result"
    }
   ],
   "source": [
    "sin(x)**2 + cos(x)**2"
   ]
  },
  {
   "cell_type": "code",
   "execution_count": 22,
   "metadata": {
    "collapsed": false
   },
   "outputs": [
    {
     "data": {
      "image/png": "[encoded data removed]",
      "text/latex": [
       "$$1$$"
      ],
      "text/plain": [
       "1"
      ]
     },
     "execution_count": 22,
     "metadata": {},
     "output_type": "execute_result"
    }
   ],
   "source": [
    "simplify(sin(x)**2 + cos(x)**2)"
   ]
  },
  {
   "cell_type": "code",
   "execution_count": 15,
   "metadata": {
    "collapsed": true
   },
   "outputs": [],
   "source": [
    "mu,sigma = symbols('mu,sigma')\n",
    "bell = exp(-(x-mu)**2 / 2*sigma**2)"
   ]
  },
  {
   "cell_type": "code",
   "execution_count": 16,
   "metadata": {
    "collapsed": false
   },
   "outputs": [
    {
     "data": {
      "image/png": "[encoded data removed]",
      "text/latex": [
       "$$- \\frac{\\sigma^{2}}{2} \\left(- 2 \\mu + 2 x\\right) e^{- \\frac{\\sigma^{2}}{2} \\left(- \\mu + x\\right)^{2}}$$"
      ],
      "text/plain": [
       "                    2         2  \n",
       "                  -σ ⋅(-μ + x)   \n",
       "                  ────────────── \n",
       "  2                     2        \n",
       "-σ ⋅(-2⋅μ + 2⋅x)⋅ℯ               \n",
       "─────────────────────────────────\n",
       "                2                "
      ]
     },
     "execution_count": 16,
     "metadata": {},
     "output_type": "execute_result"
    }
   ],
   "source": [
    "bell.diff(x)"
   ]
  },
  {
   "cell_type": "code",
   "execution_count": 18,
   "metadata": {
    "collapsed": false
   },
   "outputs": [
    {
     "data": {
      "image/png": "[encoded data removed]",
      "text/latex": [
       "$$- \\sigma \\left(- \\mu + x\\right)^{2} e^{- \\frac{\\sigma^{2}}{2} \\left(- \\mu + x\\right)^{2}}$$"
      ],
      "text/plain": [
       "                2         2 \n",
       "              -σ ⋅(-μ + x)  \n",
       "              ──────────────\n",
       "           2        2       \n",
       "-σ⋅(-μ + x) ⋅ℯ              "
      ]
     },
     "execution_count": 18,
     "metadata": {},
     "output_type": "execute_result"
    }
   ],
   "source": [
    "bell.diff(sigma)"
   ]
  },
  {
   "cell_type": "code",
   "execution_count": 20,
   "metadata": {
    "collapsed": false
   },
   "outputs": [
    {
     "data": {
      "image/png": "[encoded data removed]",
      "text/latex": [
       "$$- \\frac{\\sigma^{6}}{8} \\left(- 2 \\mu + 2 x\\right)^{3} e^{- \\frac{\\sigma^{2}}{2} \\left(- \\mu + x\\right)^{2}} + \\frac{\\sigma^{4}}{4} \\left(- 8 \\mu + 8 x\\right) e^{- \\frac{\\sigma^{2}}{2} \\left(- \\mu + x\\right)^{2}} + \\frac{\\sigma^{4}}{2} \\left(- 2 \\mu + 2 x\\right) e^{- \\frac{\\sigma^{2}}{2} \\left(- \\mu + x\\right)^{2}}$$"
      ],
      "text/plain": [
       "                      2         2                       2         2           \n",
       "                    -σ ⋅(-μ + x)                      -σ ⋅(-μ + x)            \n",
       "                    ──────────────                    ──────────────          \n",
       "   6             3        2           4                     2           4     \n",
       "  σ ⋅(-2⋅μ + 2⋅x) ⋅ℯ                 σ ⋅(-8⋅μ + 8⋅x)⋅ℯ                 σ ⋅(-2⋅\n",
       "- ──────────────────────────────── + ─────────────────────────────── + ───────\n",
       "                 8                                  4                         \n",
       "\n",
       "            2         2 \n",
       "          -σ ⋅(-μ + x)  \n",
       "          ──────────────\n",
       "                2       \n",
       "μ + 2⋅x)⋅ℯ              \n",
       "────────────────────────\n",
       "        2               "
      ]
     },
     "execution_count": 20,
     "metadata": {},
     "output_type": "execute_result"
    }
   ],
   "source": [
    "bell.diff(x).diff(x).diff(x)"
   ]
  },
  {
   "cell_type": "code",
   "execution_count": 21,
   "metadata": {
    "collapsed": false
   },
   "outputs": [
    {
     "data": {
      "image/png": "[encoded data removed]",
      "text/latex": [
       "$$\\sigma^{4} \\left(- 3 \\mu + \\sigma^{2} \\left(\\mu - x\\right)^{3} + 3 x\\right) e^{- \\frac{\\sigma^{2}}{2} \\left(\\mu - x\\right)^{2}}$$"
      ],
      "text/plain": [
       "                                 2        2 \n",
       "                               -σ ⋅(μ - x)  \n",
       "                               ─────────────\n",
       " 4 ⎛        2        3      ⎞        2      \n",
       "σ ⋅⎝-3⋅μ + σ ⋅(μ - x)  + 3⋅x⎠⋅ℯ             "
      ]
     },
     "execution_count": 21,
     "metadata": {},
     "output_type": "execute_result"
    }
   ],
   "source": [
    "simplify(bell.diff(x).diff(x).diff(x))"
   ]
  },
  {
   "cell_type": "code",
   "execution_count": 24,
   "metadata": {
    "collapsed": false
   },
   "outputs": [
    {
     "data": {
      "image/png": "[encoded data removed]",
      "text/latex": [
       "$$2 x$$"
      ],
      "text/plain": [
       "2⋅x"
      ]
     },
     "execution_count": 24,
     "metadata": {},
     "output_type": "execute_result"
    }
   ],
   "source": [
    "(x**2).diff(x)"
   ]
  },
  {
   "cell_type": "code",
   "execution_count": 25,
   "metadata": {
    "collapsed": false
   },
   "outputs": [
    {
     "data": {
      "image/png": "[encoded data removed]",
      "text/latex": [
       "$$\\cos{\\left (x \\right )}$$"
      ],
      "text/plain": [
       "cos(x)"
      ]
     },
     "execution_count": 25,
     "metadata": {},
     "output_type": "execute_result"
    }
   ],
   "source": [
    "sin(x).diff(x)"
   ]
  },
  {
   "cell_type": "code",
   "execution_count": 26,
   "metadata": {
    "collapsed": false
   },
   "outputs": [
    {
     "data": {
      "image/png": "[encoded data removed]",
      "text/latex": [
       "$$2 x + y$$"
      ],
      "text/plain": [
       "2⋅x + y"
      ]
     },
     "execution_count": 26,
     "metadata": {},
     "output_type": "execute_result"
    }
   ],
   "source": [
    "(x**2+x*y+y**2).diff(x)"
   ]
  },
  {
   "cell_type": "code",
   "execution_count": 27,
   "metadata": {
    "collapsed": false
   },
   "outputs": [
    {
     "data": {
      "image/png": "[encoded data removed]",
      "text/latex": [
       "$$x + 2 y$$"
      ],
      "text/plain": [
       "x + 2⋅y"
      ]
     },
     "execution_count": 27,
     "metadata": {},
     "output_type": "execute_result"
    }
   ],
   "source": [
    "(x**2+x*y+y**2).diff(y)"
   ]
  },
  {
   "cell_type": "code",
   "execution_count": 30,
   "metadata": {
    "collapsed": false
   },
   "outputs": [],
   "source": [
    "def equality_exercise(a,b):\n",
    "    return (a==b, simplify(a-b)==0)\n",
    "\n",
    "x=symbols('x')\n",
    "assert equality_exercise(x,2) == (False,False)\n",
    "assert equality_exercise((x+1)**2,x**2+2*x+1) == (False,True)\n",
    "assert equality_exercise(2*x,2*x) == (True,True)\n",
    "assert equality_exercise(2*x,x*2) == (True,True)"
   ]
  },
  {
   "cell_type": "code",
   "execution_count": 31,
   "metadata": {
    "collapsed": false
   },
   "outputs": [
    {
     "data": {
      "image/png": "[encoded data removed]",
      "text/latex": [
       "$$x^{2} + 2 x + \\frac{1}{2}$$"
      ],
      "text/plain": [
       " 2         1\n",
       "x  + 2⋅x + ─\n",
       "           2"
      ]
     },
     "execution_count": 31,
     "metadata": {},
     "output_type": "execute_result"
    }
   ],
   "source": [
    "x = symbols('x')\n",
    "x**2 + 2*x + S(1)/2"
   ]
  },
  {
   "cell_type": "code",
   "execution_count": 32,
   "metadata": {
    "collapsed": false
   },
   "outputs": [
    {
     "data": {
      "image/png": "[encoded data removed]",
      "text/latex": [
       "$$\\left(\\frac{x^{2}}{2} + 2 x + \\frac{3}{4}\\right)^{\\frac{3}{2}}$$"
      ],
      "text/plain": [
       "              3/2\n",
       "⎛ 2          ⎞   \n",
       "⎜x          3⎟   \n",
       "⎜── + 2⋅x + ─⎟   \n",
       "⎝2          4⎠   "
      ]
     },
     "execution_count": 32,
     "metadata": {},
     "output_type": "execute_result"
    }
   ],
   "source": [
    "x = symbols('x')\n",
    "(S(1)/2*x ** 2+2*x+S(3)/4) ** (S(3)/2)"
   ]
  },
  {
   "cell_type": "code",
   "execution_count": 33,
   "metadata": {
    "collapsed": false
   },
   "outputs": [
    {
     "data": {
      "image/png": "[encoded data removed]",
      "text/latex": [
       "$$\\left [ -3, \\quad 3\\right ]$$"
      ],
      "text/plain": [
       "[-3, 3]"
      ]
     },
     "execution_count": 33,
     "metadata": {},
     "output_type": "execute_result"
    }
   ],
   "source": [
    "solve(x**2-9, x)"
   ]
  },
  {
   "cell_type": "code",
   "execution_count": 34,
   "metadata": {
    "collapsed": true
   },
   "outputs": [],
   "source": [
    "def ass(a,b):\n",
    "    for c,d in zip(a,b):\n",
    "        if simplify(c-d) != 0:\n",
    "            print \"assert failure:\"\n",
    "            print \"  \" + str(c)\n",
    "            print \"  \" + str(d)\n",
    "            assert False"
   ]
  },
  {
   "cell_type": "code",
   "execution_count": 37,
   "metadata": {
    "collapsed": false
   },
   "outputs": [],
   "source": [
    "height, width, area = symbols('height,width,area')\n",
    "ass(solve(area-height*width, height), [area / width])\n",
    "ass(solve(area-height*width, width),  [area / height])\n",
    "ass(solve(area-height*width, area),   [height * width])"
   ]
  },
  {
   "cell_type": "code",
   "execution_count": 41,
   "metadata": {
    "collapsed": false
   },
   "outputs": [
    {
     "data": {
      "image/png": "[encoded data removed]",
      "text/latex": [
       "$$\\frac{\\sqrt[3]{6} \\sqrt[3]{v}}{2 \\sqrt[3]{\\pi}}$$"
      ],
      "text/plain": [
       "3 ___ 3 ___\n",
       "╲╱ 6 ⋅╲╱ v \n",
       "───────────\n",
       "    3 ___  \n",
       "  2⋅╲╱ π   "
      ]
     },
     "execution_count": 41,
     "metadata": {},
     "output_type": "execute_result"
    }
   ],
   "source": [
    "v,r = symbols('v,r')\n",
    "solve(v - S(4)/3*pi*r**3, r)[0]"
   ]
  },
  {
   "cell_type": "code",
   "execution_count": 39,
   "metadata": {
    "collapsed": false
   },
   "outputs": [
    {
     "data": {
      "image/png": "[encoded data removed]",
      "text/latex": [
       "$$\\sin^{2}{\\left (x \\right )} + 2 \\sin{\\left (x \\right )} + 1$$"
      ],
      "text/plain": [
       "   2                  \n",
       "sin (x) + 2⋅sin(x) + 1"
      ]
     },
     "execution_count": 39,
     "metadata": {},
     "output_type": "execute_result"
    }
   ],
   "source": [
    "a = x**2 + 2*x+1\n",
    "a.subs(x,sin(x))"
   ]
  },
  {
   "cell_type": "code",
   "execution_count": null,
   "metadata": {
    "collapsed": true
   },
   "outputs": [],
   "source": []
  }
 ],
 "metadata": {
  "kernelspec": {
   "display_name": "Python 2",
   "language": "python",
   "name": "python2"
  },
  "language_info": {
   "codemirror_mode": {
    "name": "ipython",
    "version": 2
   },
   "file_extension": ".py",
   "mimetype": "text/x-python",
   "name": "python",
   "nbconvert_exporter": "python",
   "pygments_lexer": "ipython2",
   "version": "2.7.10"
  }
 },
 "nbformat": 4,
 "nbformat_minor": 0
}
