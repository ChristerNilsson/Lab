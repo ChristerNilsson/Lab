{
 "cells": [
  {
   "cell_type": "code",
   "execution_count": 11,
   "metadata": {
    "collapsed": false
   },
   "outputs": [],
   "source": [
    "%matplotlib inline\n",
    "import pandas as pd"
   ]
  },
  {
   "cell_type": "code",
   "execution_count": 12,
   "metadata": {
    "collapsed": false
   },
   "outputs": [
    {
     "data": {
      "text/html": [
       "<style>body {\n",
       "    margin: 0;\n",
       "    font-family: Helvetica;\n",
       "}\n",
       "table.dataframe {\n",
       "    border-collapse: collapse;\n",
       "    border: none;\n",
       "}\n",
       "table.dataframe tr {\n",
       "    border: none;\n",
       "}\n",
       "table.dataframe td, table.dataframe th {\n",
       "    margin: 0;\n",
       "    border: 1px solid white;\n",
       "    padding-left: 0.25em;\n",
       "    padding-right: 0.25em;\n",
       "}\n",
       "table.dataframe th:not(:empty) {\n",
       "    background-color: #fec;\n",
       "    text-align: left;\n",
       "    font-weight: normal;\n",
       "}\n",
       "table.dataframe tr:nth-child(2) th:empty {\n",
       "    border-left: none;\n",
       "    border-right: 1px dashed #888;\n",
       "}\n",
       "table.dataframe td {\n",
       "    border: 2px solid #ccf;\n",
       "    background-color: #f4f4ff;\n",
       "}\n",
       "h3 {\n",
       "    color: white;\n",
       "    background-color: black;\n",
       "    padding: 0.5em;\n",
       "}\n",
       "</style>"
      ],
      "text/plain": [
       "<IPython.core.display.HTML object>"
      ]
     },
     "execution_count": 12,
     "metadata": {},
     "output_type": "execute_result"
    }
   ],
   "source": [
    "from IPython.core.display import HTML\n",
    "css = open('style-table.css').read() + open('style-notebook.css').read()\n",
    "HTML('<style>{}</style>'.format(css))"
   ]
  },
  {
   "cell_type": "code",
   "execution_count": 13,
   "metadata": {
    "collapsed": false
   },
   "outputs": [
    {
     "data": {
      "text/plain": [
       "218513"
      ]
     },
     "execution_count": 13,
     "metadata": {},
     "output_type": "execute_result"
    }
   ],
   "source": [
    "titles = pd.DataFrame.from_csv('data/titles.csv', index_col=None)\n",
    "len(titles)"
   ]
  },
  {
   "cell_type": "code",
   "execution_count": 14,
   "metadata": {
    "collapsed": false
   },
   "outputs": [
    {
     "data": {
      "text/plain": [
       "3376362"
      ]
     },
     "execution_count": 14,
     "metadata": {},
     "output_type": "execute_result"
    }
   ],
   "source": [
    "cast = pd.DataFrame.from_csv('data/cast.csv', index_col=None)\n",
    "len(cast)"
   ]
  },
  {
   "cell_type": "code",
   "execution_count": 15,
   "metadata": {
    "collapsed": false
   },
   "outputs": [
    {
     "data": {
      "text/plain": [
       "218513"
      ]
     },
     "execution_count": 15,
     "metadata": {},
     "output_type": "execute_result"
    }
   ],
   "source": [
    "# How many movies are listed in the titles dataframe?\n",
    "\n",
    "len(titles)"
   ]
  },
  {
   "cell_type": "code",
   "execution_count": 16,
   "metadata": {
    "collapsed": false
   },
   "outputs": [
    {
     "data": {
      "text/html": [
       "<div style=\"max-height:1000px;max-width:1500px;overflow:auto;\">\n",
       "<table border=\"1\" class=\"dataframe\">\n",
       "  <thead>\n",
       "    <tr style=\"text-align: right;\">\n",
       "      <th></th>\n",
       "      <th>title</th>\n",
       "      <th>year</th>\n",
       "    </tr>\n",
       "  </thead>\n",
       "  <tbody>\n",
       "    <tr>\n",
       "      <th>125920</th>\n",
       "      <td>                                        Miss Jerry</td>\n",
       "      <td> 1894</td>\n",
       "    </tr>\n",
       "    <tr>\n",
       "      <th>144439</th>\n",
       "      <td> Reproduction of the Corbett and Fitzsimmons Fight</td>\n",
       "      <td> 1897</td>\n",
       "    </tr>\n",
       "  </tbody>\n",
       "</table>\n",
       "</div>"
      ],
      "text/plain": [
       "                                                    title  year\n",
       "125920                                         Miss Jerry  1894\n",
       "144439  Reproduction of the Corbett and Fitzsimmons Fight  1897"
      ]
     },
     "execution_count": 16,
     "metadata": {},
     "output_type": "execute_result"
    }
   ],
   "source": [
    "# What are the earliest two films listed in the titles dataframe?\n",
    "\n",
    "titles.sort('year').head(2)"
   ]
  },
  {
   "cell_type": "code",
   "execution_count": 17,
   "metadata": {
    "collapsed": false
   },
   "outputs": [
    {
     "data": {
      "text/plain": [
       "19"
      ]
     },
     "execution_count": 17,
     "metadata": {},
     "output_type": "execute_result"
    }
   ],
   "source": [
    "# How many movies have the title \"Hamlet\"?\n",
    "\n",
    "len(titles[titles.title == 'Hamlet'])"
   ]
  },
  {
   "cell_type": "code",
   "execution_count": 18,
   "metadata": {
    "collapsed": false
   },
   "outputs": [
    {
     "data": {
      "text/plain": [
       "1"
      ]
     },
     "execution_count": 18,
     "metadata": {},
     "output_type": "execute_result"
    }
   ],
   "source": [
    "# How many movies are titled \"North by Northwest\"?\n",
    "\n",
    "len(titles[titles.title == 'North by Northwest'])"
   ]
  },
  {
   "cell_type": "code",
   "execution_count": 19,
   "metadata": {
    "collapsed": false
   },
   "outputs": [
    {
     "data": {
      "text/html": [
       "<div style=\"max-height:1000px;max-width:1500px;overflow:auto;\">\n",
       "<table border=\"1\" class=\"dataframe\">\n",
       "  <thead>\n",
       "    <tr style=\"text-align: right;\">\n",
       "      <th></th>\n",
       "      <th>title</th>\n",
       "      <th>year</th>\n",
       "    </tr>\n",
       "  </thead>\n",
       "  <tbody>\n",
       "    <tr>\n",
       "      <th>119586</th>\n",
       "      <td> Hamlet</td>\n",
       "      <td> 1910</td>\n",
       "    </tr>\n",
       "  </tbody>\n",
       "</table>\n",
       "</div>"
      ],
      "text/plain": [
       "         title  year\n",
       "119586  Hamlet  1910"
      ]
     },
     "execution_count": 19,
     "metadata": {},
     "output_type": "execute_result"
    }
   ],
   "source": [
    "# When was the first movie titled \"Hamlet\" made?\n",
    "\n",
    "titles[titles.title == 'Hamlet'].sort('year').head(1)"
   ]
  },
  {
   "cell_type": "code",
   "execution_count": 20,
   "metadata": {
    "collapsed": false
   },
   "outputs": [
    {
     "data": {
      "text/html": [
       "<div style=\"max-height:1000px;max-width:1500px;overflow:auto;\">\n",
       "<table border=\"1\" class=\"dataframe\">\n",
       "  <thead>\n",
       "    <tr style=\"text-align: right;\">\n",
       "      <th></th>\n",
       "      <th>title</th>\n",
       "      <th>year</th>\n",
       "    </tr>\n",
       "  </thead>\n",
       "  <tbody>\n",
       "    <tr>\n",
       "      <th>66440 </th>\n",
       "      <td> Treasure Island</td>\n",
       "      <td> 1918</td>\n",
       "    </tr>\n",
       "    <tr>\n",
       "      <th>192157</th>\n",
       "      <td> Treasure Island</td>\n",
       "      <td> 1920</td>\n",
       "    </tr>\n",
       "    <tr>\n",
       "      <th>177062</th>\n",
       "      <td> Treasure Island</td>\n",
       "      <td> 1934</td>\n",
       "    </tr>\n",
       "    <tr>\n",
       "      <th>197549</th>\n",
       "      <td> Treasure Island</td>\n",
       "      <td> 1950</td>\n",
       "    </tr>\n",
       "    <tr>\n",
       "      <th>46401 </th>\n",
       "      <td> Treasure Island</td>\n",
       "      <td> 1972</td>\n",
       "    </tr>\n",
       "    <tr>\n",
       "      <th>205656</th>\n",
       "      <td> Treasure Island</td>\n",
       "      <td> 1973</td>\n",
       "    </tr>\n",
       "    <tr>\n",
       "      <th>66191 </th>\n",
       "      <td> Treasure Island</td>\n",
       "      <td> 1985</td>\n",
       "    </tr>\n",
       "    <tr>\n",
       "      <th>57158 </th>\n",
       "      <td> Treasure Island</td>\n",
       "      <td> 1999</td>\n",
       "    </tr>\n",
       "  </tbody>\n",
       "</table>\n",
       "</div>"
      ],
      "text/plain": [
       "                  title  year\n",
       "66440   Treasure Island  1918\n",
       "192157  Treasure Island  1920\n",
       "177062  Treasure Island  1934\n",
       "197549  Treasure Island  1950\n",
       "46401   Treasure Island  1972\n",
       "205656  Treasure Island  1973\n",
       "66191   Treasure Island  1985\n",
       "57158   Treasure Island  1999"
      ]
     },
     "execution_count": 20,
     "metadata": {},
     "output_type": "execute_result"
    }
   ],
   "source": [
    "# List all of the \"Treasure Island\" movies from earliest to most recent.\n",
    "\n",
    "titles[titles.title == 'Treasure Island'].sort('year')"
   ]
  },
  {
   "cell_type": "code",
   "execution_count": 21,
   "metadata": {
    "collapsed": false
   },
   "outputs": [
    {
     "data": {
      "text/plain": [
       "1039"
      ]
     },
     "execution_count": 21,
     "metadata": {},
     "output_type": "execute_result"
    }
   ],
   "source": [
    "# How many movies were made in the year 1950?\n",
    "\n",
    "len(titles[titles.year == 1950])"
   ]
  },
  {
   "cell_type": "code",
   "execution_count": 22,
   "metadata": {
    "collapsed": false
   },
   "outputs": [
    {
     "data": {
      "text/plain": [
       "1472"
      ]
     },
     "execution_count": 22,
     "metadata": {},
     "output_type": "execute_result"
    }
   ],
   "source": [
    "# How many movies were made in the year 1960?\n",
    "\n",
    "len(titles[titles.year == 1960])"
   ]
  },
  {
   "cell_type": "code",
   "execution_count": 23,
   "metadata": {
    "collapsed": false
   },
   "outputs": [
    {
     "data": {
      "text/plain": [
       "12166"
      ]
     },
     "execution_count": 23,
     "metadata": {},
     "output_type": "execute_result"
    }
   ],
   "source": [
    "# How many movies were made from 1950 through 1959?\n",
    "\n",
    "t = titles\n",
    "len(t[(t.year >= 1950) & (t.year <= 1959)])"
   ]
  },
  {
   "cell_type": "code",
   "execution_count": 24,
   "metadata": {
    "collapsed": false
   },
   "outputs": [
    {
     "data": {
      "text/plain": [
       "12166"
      ]
     },
     "execution_count": 24,
     "metadata": {},
     "output_type": "execute_result"
    }
   ],
   "source": [
    "len(t[t.year // 10 == 195])"
   ]
  },
  {
   "cell_type": "code",
   "execution_count": 25,
   "metadata": {
    "collapsed": false
   },
   "outputs": [
    {
     "data": {
      "text/html": [
       "<div style=\"max-height:1000px;max-width:1500px;overflow:auto;\">\n",
       "<table border=\"1\" class=\"dataframe\">\n",
       "  <thead>\n",
       "    <tr style=\"text-align: right;\">\n",
       "      <th></th>\n",
       "      <th>title</th>\n",
       "      <th>year</th>\n",
       "    </tr>\n",
       "  </thead>\n",
       "  <tbody>\n",
       "    <tr>\n",
       "      <th>52664 </th>\n",
       "      <td> Batman</td>\n",
       "      <td> 1989</td>\n",
       "    </tr>\n",
       "    <tr>\n",
       "      <th>105850</th>\n",
       "      <td> Batman</td>\n",
       "      <td> 1943</td>\n",
       "    </tr>\n",
       "  </tbody>\n",
       "</table>\n",
       "</div>"
      ],
      "text/plain": [
       "         title  year\n",
       "52664   Batman  1989\n",
       "105850  Batman  1943"
      ]
     },
     "execution_count": 25,
     "metadata": {},
     "output_type": "execute_result"
    }
   ],
   "source": [
    "# In what years has a movie titled \"Batman\" been released?\n",
    "\n",
    "t = titles\n",
    "t[t.title == 'Batman']"
   ]
  },
  {
   "cell_type": "code",
   "execution_count": 26,
   "metadata": {
    "collapsed": false
   },
   "outputs": [
    {
     "data": {
      "text/plain": [
       "74"
      ]
     },
     "execution_count": 26,
     "metadata": {},
     "output_type": "execute_result"
    }
   ],
   "source": [
    "# How many roles were there in the movie \"Inception\"?\n",
    "\n",
    "c = cast\n",
    "len(c[c.title == 'Inception'])"
   ]
  },
  {
   "cell_type": "code",
   "execution_count": 27,
   "metadata": {
    "collapsed": false
   },
   "outputs": [
    {
     "data": {
      "text/plain": [
       "23"
      ]
     },
     "execution_count": 27,
     "metadata": {},
     "output_type": "execute_result"
    }
   ],
   "source": [
    "# How many roles in the movie \"Inception\" are NOT ranked by an \"n\" value?\n",
    "\n",
    "c = cast\n",
    "c = c[c.title == 'Inception']\n",
    "c = c[c.n.isnull()]\n",
    "len(c)"
   ]
  },
  {
   "cell_type": "code",
   "execution_count": 28,
   "metadata": {
    "collapsed": false
   },
   "outputs": [
    {
     "data": {
      "text/plain": [
       "51"
      ]
     },
     "execution_count": 28,
     "metadata": {},
     "output_type": "execute_result"
    }
   ],
   "source": [
    "# But how many roles in the movie \"Inception\" did receive an \"n\" value?\n",
    "\n",
    "c = cast\n",
    "c = c[c.title == 'Inception']\n",
    "c = c[c.n.notnull()]\n",
    "len(c)"
   ]
  },
  {
   "cell_type": "code",
   "execution_count": 29,
   "metadata": {
    "collapsed": false
   },
   "outputs": [
    {
     "data": {
      "text/html": [
       "<div style=\"max-height:1000px;max-width:1500px;overflow:auto;\">\n",
       "<table border=\"1\" class=\"dataframe\">\n",
       "  <thead>\n",
       "    <tr style=\"text-align: right;\">\n",
       "      <th></th>\n",
       "      <th>title</th>\n",
       "      <th>year</th>\n",
       "      <th>name</th>\n",
       "      <th>type</th>\n",
       "      <th>character</th>\n",
       "      <th>n</th>\n",
       "    </tr>\n",
       "  </thead>\n",
       "  <tbody>\n",
       "    <tr>\n",
       "      <th>787455 </th>\n",
       "      <td> North by Northwest</td>\n",
       "      <td> 1959</td>\n",
       "      <td>           Cary Grant</td>\n",
       "      <td>   actor</td>\n",
       "      <td>          Roger O. Thornhill</td>\n",
       "      <td>  1</td>\n",
       "    </tr>\n",
       "    <tr>\n",
       "      <th>3144258</th>\n",
       "      <td> North by Northwest</td>\n",
       "      <td> 1959</td>\n",
       "      <td>      Eva Marie Saint</td>\n",
       "      <td> actress</td>\n",
       "      <td>                 Eve Kendall</td>\n",
       "      <td>  2</td>\n",
       "    </tr>\n",
       "    <tr>\n",
       "      <th>1316346</th>\n",
       "      <td> North by Northwest</td>\n",
       "      <td> 1959</td>\n",
       "      <td>          James Mason</td>\n",
       "      <td>   actor</td>\n",
       "      <td>             Phillip Vandamm</td>\n",
       "      <td>  3</td>\n",
       "    </tr>\n",
       "    <tr>\n",
       "      <th>2829508</th>\n",
       "      <td> North by Northwest</td>\n",
       "      <td> 1959</td>\n",
       "      <td>  Jessie Royce Landis</td>\n",
       "      <td> actress</td>\n",
       "      <td>             Clara Thornhill</td>\n",
       "      <td>  4</td>\n",
       "    </tr>\n",
       "    <tr>\n",
       "      <th>321231 </th>\n",
       "      <td> North by Northwest</td>\n",
       "      <td> 1959</td>\n",
       "      <td>       Leo G. Carroll</td>\n",
       "      <td>   actor</td>\n",
       "      <td>               The Professor</td>\n",
       "      <td>  5</td>\n",
       "    </tr>\n",
       "    <tr>\n",
       "      <th>2736177</th>\n",
       "      <td> North by Northwest</td>\n",
       "      <td> 1959</td>\n",
       "      <td> Josephine Hutchinson</td>\n",
       "      <td> actress</td>\n",
       "      <td>               Mrs. Townsend</td>\n",
       "      <td>  6</td>\n",
       "    </tr>\n",
       "    <tr>\n",
       "      <th>1532294</th>\n",
       "      <td> North by Northwest</td>\n",
       "      <td> 1959</td>\n",
       "      <td>          Philip Ober</td>\n",
       "      <td>   actor</td>\n",
       "      <td>             Lester Townsend</td>\n",
       "      <td>  7</td>\n",
       "    </tr>\n",
       "    <tr>\n",
       "      <th>1151433</th>\n",
       "      <td> North by Northwest</td>\n",
       "      <td> 1959</td>\n",
       "      <td>        Martin Landau</td>\n",
       "      <td>   actor</td>\n",
       "      <td>                     Leonard</td>\n",
       "      <td>  8</td>\n",
       "    </tr>\n",
       "    <tr>\n",
       "      <th>2208479</th>\n",
       "      <td> North by Northwest</td>\n",
       "      <td> 1959</td>\n",
       "      <td>        Adam Williams</td>\n",
       "      <td>   actor</td>\n",
       "      <td>                    Valerian</td>\n",
       "      <td>  9</td>\n",
       "    </tr>\n",
       "    <tr>\n",
       "      <th>1636454</th>\n",
       "      <td> North by Northwest</td>\n",
       "      <td> 1959</td>\n",
       "      <td>         Edward Platt</td>\n",
       "      <td>   actor</td>\n",
       "      <td>             Victor Larrabee</td>\n",
       "      <td> 10</td>\n",
       "    </tr>\n",
       "    <tr>\n",
       "      <th>601387 </th>\n",
       "      <td> North by Northwest</td>\n",
       "      <td> 1959</td>\n",
       "      <td>    Robert Ellenstein</td>\n",
       "      <td>   actor</td>\n",
       "      <td>                       Licht</td>\n",
       "      <td> 11</td>\n",
       "    </tr>\n",
       "    <tr>\n",
       "      <th>2071688</th>\n",
       "      <td> North by Northwest</td>\n",
       "      <td> 1959</td>\n",
       "      <td>         Les Tremayne</td>\n",
       "      <td>   actor</td>\n",
       "      <td>                  Auctioneer</td>\n",
       "      <td> 12</td>\n",
       "    </tr>\n",
       "    <tr>\n",
       "      <th>418788 </th>\n",
       "      <td> North by Northwest</td>\n",
       "      <td> 1959</td>\n",
       "      <td>      Philip Coolidge</td>\n",
       "      <td>   actor</td>\n",
       "      <td>                   Dr. Cross</td>\n",
       "      <td> 13</td>\n",
       "    </tr>\n",
       "    <tr>\n",
       "      <th>1363428</th>\n",
       "      <td> North by Northwest</td>\n",
       "      <td> 1959</td>\n",
       "      <td>        Patrick McVey</td>\n",
       "      <td>   actor</td>\n",
       "      <td>              Sergeant Flamm</td>\n",
       "      <td> 14</td>\n",
       "    </tr>\n",
       "    <tr>\n",
       "      <th>184495 </th>\n",
       "      <td> North by Northwest</td>\n",
       "      <td> 1959</td>\n",
       "      <td>         Edward Binns</td>\n",
       "      <td>   actor</td>\n",
       "      <td>              Captain Junket</td>\n",
       "      <td> 15</td>\n",
       "    </tr>\n",
       "    <tr>\n",
       "      <th>1250762</th>\n",
       "      <td> North by Northwest</td>\n",
       "      <td> 1959</td>\n",
       "      <td>            Ken Lynch</td>\n",
       "      <td>   actor</td>\n",
       "      <td> Charley - Chicago Policeman</td>\n",
       "      <td> 16</td>\n",
       "    </tr>\n",
       "  </tbody>\n",
       "</table>\n",
       "</div>"
      ],
      "text/plain": [
       "                      title  year                  name     type  \\\n",
       "787455   North by Northwest  1959            Cary Grant    actor   \n",
       "3144258  North by Northwest  1959       Eva Marie Saint  actress   \n",
       "1316346  North by Northwest  1959           James Mason    actor   \n",
       "2829508  North by Northwest  1959   Jessie Royce Landis  actress   \n",
       "321231   North by Northwest  1959        Leo G. Carroll    actor   \n",
       "2736177  North by Northwest  1959  Josephine Hutchinson  actress   \n",
       "1532294  North by Northwest  1959           Philip Ober    actor   \n",
       "1151433  North by Northwest  1959         Martin Landau    actor   \n",
       "2208479  North by Northwest  1959         Adam Williams    actor   \n",
       "1636454  North by Northwest  1959          Edward Platt    actor   \n",
       "601387   North by Northwest  1959     Robert Ellenstein    actor   \n",
       "2071688  North by Northwest  1959          Les Tremayne    actor   \n",
       "418788   North by Northwest  1959       Philip Coolidge    actor   \n",
       "1363428  North by Northwest  1959         Patrick McVey    actor   \n",
       "184495   North by Northwest  1959          Edward Binns    actor   \n",
       "1250762  North by Northwest  1959             Ken Lynch    actor   \n",
       "\n",
       "                           character   n  \n",
       "787455            Roger O. Thornhill   1  \n",
       "3144258                  Eve Kendall   2  \n",
       "1316346              Phillip Vandamm   3  \n",
       "2829508              Clara Thornhill   4  \n",
       "321231                 The Professor   5  \n",
       "2736177                Mrs. Townsend   6  \n",
       "1532294              Lester Townsend   7  \n",
       "1151433                      Leonard   8  \n",
       "2208479                     Valerian   9  \n",
       "1636454              Victor Larrabee  10  \n",
       "601387                         Licht  11  \n",
       "2071688                   Auctioneer  12  \n",
       "418788                     Dr. Cross  13  \n",
       "1363428               Sergeant Flamm  14  \n",
       "184495                Captain Junket  15  \n",
       "1250762  Charley - Chicago Policeman  16  "
      ]
     },
     "execution_count": 29,
     "metadata": {},
     "output_type": "execute_result"
    }
   ],
   "source": [
    "# Display the cast of \"North by Northwest\" in their correct \"n\"-value order,\n",
    "# ignoring roles that did not earn a numeric \"n\" value.\n",
    "\n",
    "c = cast\n",
    "c = c[c.title == 'North by Northwest']\n",
    "c = c[c.n.notnull()]\n",
    "c = c.sort('n')\n",
    "c"
   ]
  },
  {
   "cell_type": "code",
   "execution_count": 30,
   "metadata": {
    "collapsed": false
   },
   "outputs": [
    {
     "data": {
      "text/html": [
       "<div style=\"max-height:1000px;max-width:1500px;overflow:auto;\">\n",
       "<table border=\"1\" class=\"dataframe\">\n",
       "  <thead>\n",
       "    <tr style=\"text-align: right;\">\n",
       "      <th></th>\n",
       "      <th>title</th>\n",
       "      <th>year</th>\n",
       "      <th>name</th>\n",
       "      <th>type</th>\n",
       "      <th>character</th>\n",
       "      <th>n</th>\n",
       "    </tr>\n",
       "  </thead>\n",
       "  <tbody>\n",
       "    <tr>\n",
       "      <th>1541290</th>\n",
       "      <td> Sleuth</td>\n",
       "      <td> 1972</td>\n",
       "      <td>   Laurence Olivier</td>\n",
       "      <td>   actor</td>\n",
       "      <td>                Andrew Wyke</td>\n",
       "      <td> 1</td>\n",
       "    </tr>\n",
       "    <tr>\n",
       "      <th>293974 </th>\n",
       "      <td> Sleuth</td>\n",
       "      <td> 1972</td>\n",
       "      <td>      Michael Caine</td>\n",
       "      <td>   actor</td>\n",
       "      <td>                Milo Tindle</td>\n",
       "      <td> 2</td>\n",
       "    </tr>\n",
       "    <tr>\n",
       "      <th>336868 </th>\n",
       "      <td> Sleuth</td>\n",
       "      <td> 1972</td>\n",
       "      <td>     Alec Cawthorne</td>\n",
       "      <td>   actor</td>\n",
       "      <td>          Inspector Doppler</td>\n",
       "      <td> 3</td>\n",
       "    </tr>\n",
       "    <tr>\n",
       "      <th>1323759</th>\n",
       "      <td> Sleuth</td>\n",
       "      <td> 1972</td>\n",
       "      <td> John (II) Matthews</td>\n",
       "      <td>   actor</td>\n",
       "      <td> Detective Sergeant Tarrant</td>\n",
       "      <td> 4</td>\n",
       "    </tr>\n",
       "    <tr>\n",
       "      <th>2452307</th>\n",
       "      <td> Sleuth</td>\n",
       "      <td> 1972</td>\n",
       "      <td> Eve (III) Channing</td>\n",
       "      <td> actress</td>\n",
       "      <td>            Marguerite Wyke</td>\n",
       "      <td> 5</td>\n",
       "    </tr>\n",
       "    <tr>\n",
       "      <th>1308800</th>\n",
       "      <td> Sleuth</td>\n",
       "      <td> 1972</td>\n",
       "      <td>       Teddy Martin</td>\n",
       "      <td>   actor</td>\n",
       "      <td>     Police Constable Higgs</td>\n",
       "      <td> 6</td>\n",
       "    </tr>\n",
       "  </tbody>\n",
       "</table>\n",
       "</div>"
      ],
      "text/plain": [
       "          title  year                name     type  \\\n",
       "1541290  Sleuth  1972    Laurence Olivier    actor   \n",
       "293974   Sleuth  1972       Michael Caine    actor   \n",
       "336868   Sleuth  1972      Alec Cawthorne    actor   \n",
       "1323759  Sleuth  1972  John (II) Matthews    actor   \n",
       "2452307  Sleuth  1972  Eve (III) Channing  actress   \n",
       "1308800  Sleuth  1972        Teddy Martin    actor   \n",
       "\n",
       "                          character  n  \n",
       "1541290                 Andrew Wyke  1  \n",
       "293974                  Milo Tindle  2  \n",
       "336868            Inspector Doppler  3  \n",
       "1323759  Detective Sergeant Tarrant  4  \n",
       "2452307             Marguerite Wyke  5  \n",
       "1308800      Police Constable Higgs  6  "
      ]
     },
     "execution_count": 30,
     "metadata": {},
     "output_type": "execute_result"
    }
   ],
   "source": [
    "# Display the entire cast, in \"n\"-order, of the 1972 film \"Sleuth\".\n",
    "\n",
    "c = cast\n",
    "c = c[c.title == 'Sleuth']\n",
    "c = c[c.year == 1972]\n",
    "c = c.sort('n')\n",
    "c"
   ]
  },
  {
   "cell_type": "code",
   "execution_count": 31,
   "metadata": {
    "collapsed": false
   },
   "outputs": [
    {
     "data": {
      "text/html": [
       "<div style=\"max-height:1000px;max-width:1500px;overflow:auto;\">\n",
       "<table border=\"1\" class=\"dataframe\">\n",
       "  <thead>\n",
       "    <tr style=\"text-align: right;\">\n",
       "      <th></th>\n",
       "      <th>title</th>\n",
       "      <th>year</th>\n",
       "      <th>name</th>\n",
       "      <th>type</th>\n",
       "      <th>character</th>\n",
       "      <th>n</th>\n",
       "    </tr>\n",
       "  </thead>\n",
       "  <tbody>\n",
       "    <tr>\n",
       "      <th>293975 </th>\n",
       "      <td> Sleuth</td>\n",
       "      <td> 2007</td>\n",
       "      <td>       Michael Caine</td>\n",
       "      <td>   actor</td>\n",
       "      <td>            Andrew</td>\n",
       "      <td>  1</td>\n",
       "    </tr>\n",
       "    <tr>\n",
       "      <th>1168222</th>\n",
       "      <td> Sleuth</td>\n",
       "      <td> 2007</td>\n",
       "      <td>            Jude Law</td>\n",
       "      <td>   actor</td>\n",
       "      <td>              Milo</td>\n",
       "      <td>  2</td>\n",
       "    </tr>\n",
       "    <tr>\n",
       "      <th>1631576</th>\n",
       "      <td> Sleuth</td>\n",
       "      <td> 2007</td>\n",
       "      <td>       Harold Pinter</td>\n",
       "      <td>   actor</td>\n",
       "      <td>       Man on T.V.</td>\n",
       "      <td>  3</td>\n",
       "    </tr>\n",
       "    <tr>\n",
       "      <th>233194 </th>\n",
       "      <td> Sleuth</td>\n",
       "      <td> 2007</td>\n",
       "      <td>     Kenneth Branagh</td>\n",
       "      <td>   actor</td>\n",
       "      <td> Other Man on T.V.</td>\n",
       "      <td>NaN</td>\n",
       "    </tr>\n",
       "    <tr>\n",
       "      <th>336869 </th>\n",
       "      <td> Sleuth</td>\n",
       "      <td> 2007</td>\n",
       "      <td> Alec (II) Cawthorne</td>\n",
       "      <td>   actor</td>\n",
       "      <td> Inspector Doppler</td>\n",
       "      <td>NaN</td>\n",
       "    </tr>\n",
       "    <tr>\n",
       "      <th>2452306</th>\n",
       "      <td> Sleuth</td>\n",
       "      <td> 2007</td>\n",
       "      <td>   Eve (II) Channing</td>\n",
       "      <td> actress</td>\n",
       "      <td>   Marguerite Wyke</td>\n",
       "      <td>NaN</td>\n",
       "    </tr>\n",
       "    <tr>\n",
       "      <th>3015768</th>\n",
       "      <td> Sleuth</td>\n",
       "      <td> 2007</td>\n",
       "      <td>   Carmel O'Sullivan</td>\n",
       "      <td> actress</td>\n",
       "      <td>            Maggie</td>\n",
       "      <td>NaN</td>\n",
       "    </tr>\n",
       "  </tbody>\n",
       "</table>\n",
       "</div>"
      ],
      "text/plain": [
       "          title  year                 name     type          character   n\n",
       "293975   Sleuth  2007        Michael Caine    actor             Andrew   1\n",
       "1168222  Sleuth  2007             Jude Law    actor               Milo   2\n",
       "1631576  Sleuth  2007        Harold Pinter    actor        Man on T.V.   3\n",
       "233194   Sleuth  2007      Kenneth Branagh    actor  Other Man on T.V. NaN\n",
       "336869   Sleuth  2007  Alec (II) Cawthorne    actor  Inspector Doppler NaN\n",
       "2452306  Sleuth  2007    Eve (II) Channing  actress    Marguerite Wyke NaN\n",
       "3015768  Sleuth  2007    Carmel O'Sullivan  actress             Maggie NaN"
      ]
     },
     "execution_count": 31,
     "metadata": {},
     "output_type": "execute_result"
    }
   ],
   "source": [
    "# Now display the entire cast, in \"n\"-order, of the 2007 version of \"Sleuth\".\n",
    "\n",
    "c = cast\n",
    "c = c[c.title == 'Sleuth']\n",
    "c = c[c.year == 2007]\n",
    "c = c.sort('n')\n",
    "c"
   ]
  },
  {
   "cell_type": "code",
   "execution_count": 32,
   "metadata": {
    "collapsed": false
   },
   "outputs": [
    {
     "data": {
      "text/plain": [
       "9"
      ]
     },
     "execution_count": 32,
     "metadata": {},
     "output_type": "execute_result"
    }
   ],
   "source": [
    "# How many roles were credited in the silent 1921 version of Hamlet?\n",
    "\n",
    "c = cast\n",
    "c = c[(c.title == 'Hamlet') & (c.year == 1921)]\n",
    "len(c)"
   ]
  },
  {
   "cell_type": "code",
   "execution_count": 33,
   "metadata": {
    "collapsed": false
   },
   "outputs": [
    {
     "data": {
      "text/plain": [
       "54"
      ]
     },
     "execution_count": 33,
     "metadata": {},
     "output_type": "execute_result"
    }
   ],
   "source": [
    "# How many roles were credited in Branagh’s 1996 Hamlet?\n",
    "\n",
    "c = cast\n",
    "c = c[(c.title == 'Hamlet') & (c.year == 1996)]\n",
    "len(c)"
   ]
  },
  {
   "cell_type": "code",
   "execution_count": 34,
   "metadata": {
    "collapsed": false
   },
   "outputs": [
    {
     "data": {
      "text/plain": [
       "84"
      ]
     },
     "execution_count": 34,
     "metadata": {},
     "output_type": "execute_result"
    }
   ],
   "source": [
    "# How many \"Hamlet\" roles have been listed in all film credits through history?\n",
    "\n",
    "c = cast\n",
    "c = c[c.character == 'Hamlet']\n",
    "len(c)"
   ]
  },
  {
   "cell_type": "code",
   "execution_count": 35,
   "metadata": {
    "collapsed": false
   },
   "outputs": [
    {
     "data": {
      "text/plain": [
       "98"
      ]
     },
     "execution_count": 35,
     "metadata": {},
     "output_type": "execute_result"
    }
   ],
   "source": [
    "# How many people have played an \"Ophelia\"?\n",
    "\n",
    "c = cast\n",
    "c = c[c.character == 'Ophelia']\n",
    "len(c)"
   ]
  },
  {
   "cell_type": "code",
   "execution_count": 36,
   "metadata": {
    "collapsed": false
   },
   "outputs": [
    {
     "data": {
      "text/plain": [
       "16"
      ]
     },
     "execution_count": 36,
     "metadata": {},
     "output_type": "execute_result"
    }
   ],
   "source": [
    "# How many people have played a role called \"The Dude\"?\n",
    "\n",
    "c = cast\n",
    "c = c[c.character == 'The Dude']\n",
    "len(c)"
   ]
  },
  {
   "cell_type": "code",
   "execution_count": 37,
   "metadata": {
    "collapsed": false
   },
   "outputs": [
    {
     "data": {
      "text/plain": [
       "195"
      ]
     },
     "execution_count": 37,
     "metadata": {},
     "output_type": "execute_result"
    }
   ],
   "source": [
    "# How many people have played a role called \"The Stranger\"?\n",
    "\n",
    "c = cast\n",
    "c = c[c.character == 'The Stranger']\n",
    "len(c)"
   ]
  },
  {
   "cell_type": "code",
   "execution_count": 38,
   "metadata": {
    "collapsed": false
   },
   "outputs": [
    {
     "data": {
      "text/plain": [
       "43"
      ]
     },
     "execution_count": 38,
     "metadata": {},
     "output_type": "execute_result"
    }
   ],
   "source": [
    "# How many roles has Sidney Poitier played throughout his career?\n",
    "\n",
    "c = cast\n",
    "c = c[c.name == 'Sidney Poitier']\n",
    "len(c)"
   ]
  },
  {
   "cell_type": "code",
   "execution_count": 39,
   "metadata": {
    "collapsed": false
   },
   "outputs": [
    {
     "data": {
      "text/plain": [
       "51"
      ]
     },
     "execution_count": 39,
     "metadata": {},
     "output_type": "execute_result"
    }
   ],
   "source": [
    "# How many roles has Judi Dench played?\n",
    "\n",
    "c = cast\n",
    "c = c[c.name == 'Judi Dench']\n",
    "len(c)"
   ]
  },
  {
   "cell_type": "code",
   "execution_count": 40,
   "metadata": {
    "collapsed": false
   },
   "outputs": [
    {
     "data": {
      "text/html": [
       "<div style=\"max-height:1000px;max-width:1500px;overflow:auto;\">\n",
       "<table border=\"1\" class=\"dataframe\">\n",
       "  <thead>\n",
       "    <tr style=\"text-align: right;\">\n",
       "      <th></th>\n",
       "      <th>title</th>\n",
       "      <th>year</th>\n",
       "      <th>name</th>\n",
       "      <th>type</th>\n",
       "      <th>character</th>\n",
       "      <th>n</th>\n",
       "    </tr>\n",
       "  </thead>\n",
       "  <tbody>\n",
       "    <tr>\n",
       "      <th>787452</th>\n",
       "      <td> My Favorite Wife</td>\n",
       "      <td> 1940</td>\n",
       "      <td> Cary Grant</td>\n",
       "      <td> actor</td>\n",
       "      <td>        Nick</td>\n",
       "      <td> 2</td>\n",
       "    </tr>\n",
       "    <tr>\n",
       "      <th>787462</th>\n",
       "      <td>   Penny Serenade</td>\n",
       "      <td> 1941</td>\n",
       "      <td> Cary Grant</td>\n",
       "      <td> actor</td>\n",
       "      <td> Roger Adams</td>\n",
       "      <td> 2</td>\n",
       "    </tr>\n",
       "  </tbody>\n",
       "</table>\n",
       "</div>"
      ],
      "text/plain": [
       "                   title  year        name   type    character  n\n",
       "787452  My Favorite Wife  1940  Cary Grant  actor         Nick  2\n",
       "787462    Penny Serenade  1941  Cary Grant  actor  Roger Adams  2"
      ]
     },
     "execution_count": 40,
     "metadata": {},
     "output_type": "execute_result"
    }
   ],
   "source": [
    "# List the supporting roles (having n=2) played by Cary Grant in the 1940s,\n",
    "# in order by year.\n",
    "\n",
    "c = cast\n",
    "c = c[c.name == 'Cary Grant']\n",
    "c = c[c.year // 10 == 194]\n",
    "c = c[c.n == 2]\n",
    "c = c.sort('year')\n",
    "c"
   ]
  },
  {
   "cell_type": "code",
   "execution_count": 41,
   "metadata": {
    "collapsed": false
   },
   "outputs": [
    {
     "data": {
      "text/html": [
       "<div style=\"max-height:1000px;max-width:1500px;overflow:auto;\">\n",
       "<table border=\"1\" class=\"dataframe\">\n",
       "  <thead>\n",
       "    <tr style=\"text-align: right;\">\n",
       "      <th></th>\n",
       "      <th>title</th>\n",
       "      <th>year</th>\n",
       "      <th>name</th>\n",
       "      <th>type</th>\n",
       "      <th>character</th>\n",
       "      <th>n</th>\n",
       "    </tr>\n",
       "  </thead>\n",
       "  <tbody>\n",
       "    <tr>\n",
       "      <th>787477</th>\n",
       "      <td>              The Howards of Virginia</td>\n",
       "      <td> 1940</td>\n",
       "      <td> Cary Grant</td>\n",
       "      <td> actor</td>\n",
       "      <td>           Matt Howard</td>\n",
       "      <td> 1</td>\n",
       "    </tr>\n",
       "    <tr>\n",
       "      <th>787434</th>\n",
       "      <td>                      His Girl Friday</td>\n",
       "      <td> 1940</td>\n",
       "      <td> Cary Grant</td>\n",
       "      <td> actor</td>\n",
       "      <td>          Walter Burns</td>\n",
       "      <td> 1</td>\n",
       "    </tr>\n",
       "    <tr>\n",
       "      <th>787479</th>\n",
       "      <td>               The Philadelphia Story</td>\n",
       "      <td> 1940</td>\n",
       "      <td> Cary Grant</td>\n",
       "      <td> actor</td>\n",
       "      <td>    C. K. Dexter Haven</td>\n",
       "      <td> 1</td>\n",
       "    </tr>\n",
       "    <tr>\n",
       "      <th>787467</th>\n",
       "      <td>                            Suspicion</td>\n",
       "      <td> 1941</td>\n",
       "      <td> Cary Grant</td>\n",
       "      <td> actor</td>\n",
       "      <td>               Johnnie</td>\n",
       "      <td> 1</td>\n",
       "    </tr>\n",
       "    <tr>\n",
       "      <th>787481</th>\n",
       "      <td>                 The Talk of the Town</td>\n",
       "      <td> 1942</td>\n",
       "      <td> Cary Grant</td>\n",
       "      <td> actor</td>\n",
       "      <td>          Leopold Dilg</td>\n",
       "      <td> 1</td>\n",
       "    </tr>\n",
       "    <tr>\n",
       "      <th>787458</th>\n",
       "      <td>                Once Upon a Honeymoon</td>\n",
       "      <td> 1942</td>\n",
       "      <td> Cary Grant</td>\n",
       "      <td> actor</td>\n",
       "      <td> Patrick 'Pat' O'Toole</td>\n",
       "      <td> 1</td>\n",
       "    </tr>\n",
       "    <tr>\n",
       "      <th>787425</th>\n",
       "      <td>                    Destination Tokyo</td>\n",
       "      <td> 1943</td>\n",
       "      <td> Cary Grant</td>\n",
       "      <td> actor</td>\n",
       "      <td>         Capt. Cassidy</td>\n",
       "      <td> 1</td>\n",
       "    </tr>\n",
       "    <tr>\n",
       "      <th>787450</th>\n",
       "      <td>                            Mr. Lucky</td>\n",
       "      <td> 1943</td>\n",
       "      <td> Cary Grant</td>\n",
       "      <td> actor</td>\n",
       "      <td>             Joe Adams</td>\n",
       "      <td> 1</td>\n",
       "    </tr>\n",
       "    <tr>\n",
       "      <th>787451</th>\n",
       "      <td>                            Mr. Lucky</td>\n",
       "      <td> 1943</td>\n",
       "      <td> Cary Grant</td>\n",
       "      <td> actor</td>\n",
       "      <td>       Joe Bascopolous</td>\n",
       "      <td> 1</td>\n",
       "    </tr>\n",
       "    <tr>\n",
       "      <th>787459</th>\n",
       "      <td>                     Once Upon a Time</td>\n",
       "      <td> 1944</td>\n",
       "      <td> Cary Grant</td>\n",
       "      <td> actor</td>\n",
       "      <td>           Jerry Flynn</td>\n",
       "      <td> 1</td>\n",
       "    </tr>\n",
       "    <tr>\n",
       "      <th>787417</th>\n",
       "      <td>                 Arsenic and Old Lace</td>\n",
       "      <td> 1944</td>\n",
       "      <td> Cary Grant</td>\n",
       "      <td> actor</td>\n",
       "      <td>     Mortimer Brewster</td>\n",
       "      <td> 1</td>\n",
       "    </tr>\n",
       "    <tr>\n",
       "      <th>787454</th>\n",
       "      <td>            None But the Lonely Heart</td>\n",
       "      <td> 1944</td>\n",
       "      <td> Cary Grant</td>\n",
       "      <td> actor</td>\n",
       "      <td>            Ernie Mott</td>\n",
       "      <td> 1</td>\n",
       "    </tr>\n",
       "    <tr>\n",
       "      <th>787453</th>\n",
       "      <td>                        Night and Day</td>\n",
       "      <td> 1946</td>\n",
       "      <td> Cary Grant</td>\n",
       "      <td> actor</td>\n",
       "      <td>           Cole Porter</td>\n",
       "      <td> 1</td>\n",
       "    </tr>\n",
       "    <tr>\n",
       "      <th>787456</th>\n",
       "      <td>                            Notorious</td>\n",
       "      <td> 1946</td>\n",
       "      <td> Cary Grant</td>\n",
       "      <td> actor</td>\n",
       "      <td>                Devlin</td>\n",
       "      <td> 1</td>\n",
       "    </tr>\n",
       "    <tr>\n",
       "      <th>787473</th>\n",
       "      <td>     The Bachelor and the Bobby-Soxer</td>\n",
       "      <td> 1947</td>\n",
       "      <td> Cary Grant</td>\n",
       "      <td> actor</td>\n",
       "      <td>           Dick Nugent</td>\n",
       "      <td> 1</td>\n",
       "    </tr>\n",
       "    <tr>\n",
       "      <th>787474</th>\n",
       "      <td>                    The Bishop's Wife</td>\n",
       "      <td> 1947</td>\n",
       "      <td> Cary Grant</td>\n",
       "      <td> actor</td>\n",
       "      <td>                Dudley</td>\n",
       "      <td> 1</td>\n",
       "    </tr>\n",
       "    <tr>\n",
       "      <th>787449</th>\n",
       "      <td> Mr. Blandings Builds His Dream House</td>\n",
       "      <td> 1948</td>\n",
       "      <td> Cary Grant</td>\n",
       "      <td> actor</td>\n",
       "      <td>         Jim Blandings</td>\n",
       "      <td> 1</td>\n",
       "    </tr>\n",
       "    <tr>\n",
       "      <th>787429</th>\n",
       "      <td>         Every Girl Should Be Married</td>\n",
       "      <td> 1948</td>\n",
       "      <td> Cary Grant</td>\n",
       "      <td> actor</td>\n",
       "      <td>     Dr. Madison Brown</td>\n",
       "      <td> 1</td>\n",
       "    </tr>\n",
       "    <tr>\n",
       "      <th>787438</th>\n",
       "      <td>               I Was a Male War Bride</td>\n",
       "      <td> 1949</td>\n",
       "      <td> Cary Grant</td>\n",
       "      <td> actor</td>\n",
       "      <td>   Capt. Henri Rochard</td>\n",
       "      <td> 1</td>\n",
       "    </tr>\n",
       "  </tbody>\n",
       "</table>\n",
       "</div>"
      ],
      "text/plain": [
       "                                       title  year        name   type  \\\n",
       "787477               The Howards of Virginia  1940  Cary Grant  actor   \n",
       "787434                       His Girl Friday  1940  Cary Grant  actor   \n",
       "787479                The Philadelphia Story  1940  Cary Grant  actor   \n",
       "787467                             Suspicion  1941  Cary Grant  actor   \n",
       "787481                  The Talk of the Town  1942  Cary Grant  actor   \n",
       "787458                 Once Upon a Honeymoon  1942  Cary Grant  actor   \n",
       "787425                     Destination Tokyo  1943  Cary Grant  actor   \n",
       "787450                             Mr. Lucky  1943  Cary Grant  actor   \n",
       "787451                             Mr. Lucky  1943  Cary Grant  actor   \n",
       "787459                      Once Upon a Time  1944  Cary Grant  actor   \n",
       "787417                  Arsenic and Old Lace  1944  Cary Grant  actor   \n",
       "787454             None But the Lonely Heart  1944  Cary Grant  actor   \n",
       "787453                         Night and Day  1946  Cary Grant  actor   \n",
       "787456                             Notorious  1946  Cary Grant  actor   \n",
       "787473      The Bachelor and the Bobby-Soxer  1947  Cary Grant  actor   \n",
       "787474                     The Bishop's Wife  1947  Cary Grant  actor   \n",
       "787449  Mr. Blandings Builds His Dream House  1948  Cary Grant  actor   \n",
       "787429          Every Girl Should Be Married  1948  Cary Grant  actor   \n",
       "787438                I Was a Male War Bride  1949  Cary Grant  actor   \n",
       "\n",
       "                    character  n  \n",
       "787477            Matt Howard  1  \n",
       "787434           Walter Burns  1  \n",
       "787479     C. K. Dexter Haven  1  \n",
       "787467                Johnnie  1  \n",
       "787481           Leopold Dilg  1  \n",
       "787458  Patrick 'Pat' O'Toole  1  \n",
       "787425          Capt. Cassidy  1  \n",
       "787450              Joe Adams  1  \n",
       "787451        Joe Bascopolous  1  \n",
       "787459            Jerry Flynn  1  \n",
       "787417      Mortimer Brewster  1  \n",
       "787454             Ernie Mott  1  \n",
       "787453            Cole Porter  1  \n",
       "787456                 Devlin  1  \n",
       "787473            Dick Nugent  1  \n",
       "787474                 Dudley  1  \n",
       "787449          Jim Blandings  1  \n",
       "787429      Dr. Madison Brown  1  \n",
       "787438    Capt. Henri Rochard  1  "
      ]
     },
     "execution_count": 41,
     "metadata": {},
     "output_type": "execute_result"
    }
   ],
   "source": [
    "# List the leading roles that Cary Grant played in the 1940s in order by year.\n",
    "\n",
    "c = cast\n",
    "c = c[c.name == 'Cary Grant']\n",
    "c = c[c.year // 10 == 194]\n",
    "c = c[c.n == 1 ]\n",
    "c = c.sort('year')\n",
    "c"
   ]
  },
  {
   "cell_type": "code",
   "execution_count": 42,
   "metadata": {
    "collapsed": false
   },
   "outputs": [
    {
     "data": {
      "text/plain": [
       "149755"
      ]
     },
     "execution_count": 42,
     "metadata": {},
     "output_type": "execute_result"
    }
   ],
   "source": [
    "# How many roles were available for actors in the 1950s?\n",
    "\n",
    "c = cast\n",
    "c = c[c.year // 10 == 195]\n",
    "c = c[c.type == 'actor']\n",
    "len(c)"
   ]
  },
  {
   "cell_type": "code",
   "execution_count": 43,
   "metadata": {
    "collapsed": false
   },
   "outputs": [
    {
     "data": {
      "text/plain": [
       "54495"
      ]
     },
     "execution_count": 43,
     "metadata": {},
     "output_type": "execute_result"
    }
   ],
   "source": [
    "# How many roles were avilable for actresses in the 1950s?\n",
    "\n",
    "c = cast\n",
    "c = c[c.year // 10 == 195]\n",
    "c = c[c.type == 'actress']\n",
    "len(c)"
   ]
  },
  {
   "cell_type": "code",
   "execution_count": 44,
   "metadata": {
    "collapsed": false
   },
   "outputs": [
    {
     "data": {
      "text/plain": [
       "61876"
      ]
     },
     "execution_count": 44,
     "metadata": {},
     "output_type": "execute_result"
    }
   ],
   "source": [
    "# How many leading roles (n=1) were available\n",
    "# from the beginning of film history through 1980?\n",
    "\n",
    "c = cast\n",
    "c = c[c.year <= 1980]\n",
    "c = c[c.n == 1]\n",
    "len(c)"
   ]
  },
  {
   "cell_type": "code",
   "execution_count": 45,
   "metadata": {
    "collapsed": false
   },
   "outputs": [
    {
     "data": {
      "text/plain": [
       "1059254"
      ]
     },
     "execution_count": 45,
     "metadata": {},
     "output_type": "execute_result"
    }
   ],
   "source": [
    "# How many non-leading roles were available through\n",
    "# from the beginning of film history through 1980?\n",
    "\n",
    "c = cast\n",
    "c = c[c.year <= 1980]\n",
    "c = c[c.n != 1]\n",
    "len(c)"
   ]
  },
  {
   "cell_type": "code",
   "execution_count": 46,
   "metadata": {
    "collapsed": false
   },
   "outputs": [
    {
     "data": {
      "text/plain": [
       "421393"
      ]
     },
     "execution_count": 46,
     "metadata": {},
     "output_type": "execute_result"
    }
   ],
   "source": [
    "# How many roles through 1980 were minor enough\n",
    "# that they did not warrant a numeric \"n\" rank?\n",
    "\n",
    "c = cast\n",
    "c = c[c.year <= 1980]\n",
    "c = c[c.n.isnull()]\n",
    "len(c)"
   ]
  },
  {
   "cell_type": "code",
   "execution_count": null,
   "metadata": {
    "collapsed": true
   },
   "outputs": [],
   "source": []
  }
 ],
 "metadata": {
  "kernelspec": {
   "display_name": "Python 2",
   "language": "python",
   "name": "python2"
  },
  "language_info": {
   "codemirror_mode": {
    "name": "ipython",
    "version": 2
   },
   "file_extension": ".py",
   "mimetype": "text/x-python",
   "name": "python",
   "nbconvert_exporter": "python",
   "pygments_lexer": "ipython2",
   "version": "2.7.9"
  }
 },
 "nbformat": 4,
 "nbformat_minor": 0
}
