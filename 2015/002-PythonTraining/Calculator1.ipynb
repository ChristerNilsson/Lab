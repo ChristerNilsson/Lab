{
 "cells": [
  {
   "cell_type": "markdown",
   "metadata": {},
   "source": [
    "# Python 1"
   ]
  },
  {
   "cell_type": "code",
   "execution_count": 55,
   "metadata": {
    "collapsed": true
   },
   "outputs": [],
   "source": [
    "def ass(a,b):\n",
    "    if a!=b:\n",
    "        print \"Assert failed:\",a,\"!=\",b\n",
    "        assert a==b"
   ]
  },
  {
   "cell_type": "markdown",
   "metadata": {},
   "source": [
    "### Heltal"
   ]
  },
  {
   "cell_type": "code",
   "execution_count": 56,
   "metadata": {
    "collapsed": false
   },
   "outputs": [
    {
     "ename": "AssertionError",
     "evalue": "",
     "output_type": "error",
     "traceback": [
      "\u001b[1;31m---------------------------------------------------------------------------\u001b[0m",
      "\u001b[1;31mAssertionError\u001b[0m                            Traceback (most recent call last)",
      "\u001b[1;32m<ipython-input-56-e3d34766cfa5>\u001b[0m in \u001b[0;36m<module>\u001b[1;34m()\u001b[0m\n\u001b[0;32m      1\u001b[0m \u001b[0mx\u001b[0m \u001b[1;33m=\u001b[0m \u001b[1;36m41\u001b[0m\u001b[1;33m\u001b[0m\u001b[0m\n\u001b[1;32m----> 2\u001b[1;33m \u001b[1;32massert\u001b[0m \u001b[0mx\u001b[0m \u001b[1;33m==\u001b[0m \u001b[1;36m42\u001b[0m\u001b[1;33m\u001b[0m\u001b[0m\n\u001b[0m\u001b[0;32m      3\u001b[0m \u001b[1;32massert\u001b[0m \u001b[0mx\u001b[0m \u001b[1;33m+\u001b[0m \u001b[0mx\u001b[0m \u001b[1;33m==\u001b[0m \u001b[1;36m82\u001b[0m\u001b[1;33m\u001b[0m\u001b[0m\n",
      "\u001b[1;31mAssertionError\u001b[0m: "
     ]
    }
   ],
   "source": [
    "x = 41\n",
    "assert x == 42\n",
    "assert x + x == 82"
   ]
  },
  {
   "cell_type": "markdown",
   "metadata": {},
   "source": [
    "### Flyttal"
   ]
  },
  {
   "cell_type": "code",
   "execution_count": null,
   "metadata": {
    "collapsed": false
   },
   "outputs": [],
   "source": [
    "radie = 2\n",
    "area = radie * radie * 3.14\n",
    "assert area == 12.56"
   ]
  },
  {
   "cell_type": "markdown",
   "metadata": {},
   "source": [
    "### Strängar"
   ]
  },
  {
   "cell_type": "code",
   "execution_count": null,
   "metadata": {
    "collapsed": false
   },
   "outputs": [],
   "source": [
    "s = 'hello'\n",
    "assert s + s == 'hellohello'\n",
    "assert len(s) == 5\n",
    "\n",
    "assert '2 3 +'.split() == ['2', '3', '+']\n",
    "assert ' '.join(['2', '3', '+']) == '2 3 +'\n",
    "\n",
    "assert int('2') == 2\n",
    "assert str(2) == '2'\n",
    "\n",
    "assert float('3.14') == 3.14\n",
    "assert str(3.14) == '3.14'\n",
    "\n",
    "assert 1 + 2 == 3\n",
    "assert 'a' + 'b' == 'ab'\n",
    "assert '1' + '2' == '12'"
   ]
  },
  {
   "cell_type": "markdown",
   "metadata": {},
   "source": [
    "### Listor"
   ]
  },
  {
   "cell_type": "code",
   "execution_count": null,
   "metadata": {
    "collapsed": false
   },
   "outputs": [],
   "source": [
    "lst = [18, 42, 3.14]\n",
    "assert len(lst) == 3\n",
    "assert lst[0] == 18\n",
    "lst.sort()\n",
    "assert lst == [3.14, 18, 42]\n",
    "lst.reverse()\n",
    "assert lst == [42, 18, 3.14]\n",
    "lst.append(99)\n",
    "assert lst == [42, 18, 3.14, 99]\n",
    "assert lst.pop() == 99\n",
    "assert lst == [42, 18, 3.14]"
   ]
  },
  {
   "cell_type": "markdown",
   "metadata": {},
   "source": [
    "### Ordlistor (dict, hash)"
   ]
  },
  {
   "cell_type": "code",
   "execution_count": null,
   "metadata": {
    "collapsed": false
   },
   "outputs": [],
   "source": [
    "bp = {}\n",
    "bp['namn'] = 'Beppe'\n",
    "assert bp == {'namn':'Beppe'}\n",
    "bp['ålder'] = 13\n",
    "assert bp == {'namn':'Beppe', 'ålder':13}\n",
    "assert bp['ålder'] == 13\n",
    "assert len(bp) == 2"
   ]
  },
  {
   "cell_type": "markdown",
   "metadata": {},
   "source": [
    "### for"
   ]
  },
  {
   "cell_type": "code",
   "execution_count": null,
   "metadata": {
    "collapsed": true
   },
   "outputs": [],
   "source": [
    "sum = 0\n",
    "for i in [1,2,3,4,5]:\n",
    "    sum += i\n",
    "assert sum == 15"
   ]
  },
  {
   "cell_type": "code",
   "execution_count": null,
   "metadata": {
    "collapsed": false
   },
   "outputs": [],
   "source": [
    "sum = 0\n",
    "for i in range(5):\n",
    "    sum += i\n",
    "assert sum == 10    "
   ]
  },
  {
   "cell_type": "markdown",
   "metadata": {},
   "source": [
    "### if"
   ]
  },
  {
   "cell_type": "code",
   "execution_count": null,
   "metadata": {
    "collapsed": false
   },
   "outputs": [],
   "source": [
    "x = 2\n",
    "if x < 3:\n",
    "    s = 'mindre'\n",
    "elif x > 3:\n",
    "    s = 'större'\n",
    "else:\n",
    "    s = 'lika'\n",
    "assert s == 'mindre'    "
   ]
  },
  {
   "cell_type": "markdown",
   "metadata": {},
   "source": [
    "### def"
   ]
  },
  {
   "cell_type": "code",
   "execution_count": null,
   "metadata": {
    "collapsed": false
   },
   "outputs": [],
   "source": [
    "def addera(x,y):\n",
    "    return x+y\n",
    "\n",
    "assert addera(2,3) == 5   \n",
    "assert addera('adam','bertil') == 'adambertil'"
   ]
  },
  {
   "cell_type": "markdown",
   "metadata": {},
   "source": [
    "### lambda"
   ]
  },
  {
   "cell_type": "code",
   "execution_count": null,
   "metadata": {
    "collapsed": false
   },
   "outputs": [],
   "source": [
    "addera = lambda x,y: x+y\n",
    "multiplicera = lambda x,y: x*y\n",
    "\n",
    "assert addera(2,3) == 5   \n",
    "assert addera('adam','bertil') == 'adambertil'\n",
    "assert multiplicera(2,3) == 6   \n",
    "assert multiplicera('Ja',3) == 'JaJaJa'"
   ]
  },
  {
   "cell_type": "markdown",
   "metadata": {},
   "source": [
    "### Övning"
   ]
  },
  {
   "cell_type": "code",
   "execution_count": null,
   "metadata": {
    "collapsed": false
   },
   "outputs": [],
   "source": [
    "def calc(s):\n",
    "    stack = []\n",
    "    arr = s.split()\n",
    "    for item in arr:\n",
    "        if item == '+':\n",
    "            x = stack.pop()\n",
    "            y = stack.pop()\n",
    "            z = x + y\n",
    "            stack.append(z)\n",
    "        else:\n",
    "            tal = float(item)\n",
    "            stack.append(tal)\n",
    "    return stack      \n",
    "\n",
    "assert calc('2 3 +') == [5]\n",
    "#assert calc('2 3 *') == [6]\n",
    "#assert calc('2 3 4 + +') == [9]\n",
    "#assert calc('2 3 4 * +') == [14]\n",
    "#assert calc('2 3 -') == [-1]\n",
    "#assert calc('10 2 /') == [5]\n",
    "#assert calc('2 3 clr') == []\n",
    "#assert calc('2 3 swp') == [3,2]\n",
    "#assert calc('2 3 drp') == [2]\n",
    "#assert calc('4 inv') == [0.25]\n",
    "#assert calc('4 chs') == [-4]\n",
    "#assert calc('-4 chs') == [4]"
   ]
  },
  {
   "cell_type": "markdown",
   "metadata": {},
   "source": [
    "### Lösning"
   ]
  },
  {
   "cell_type": "code",
   "execution_count": null,
   "metadata": {
    "collapsed": false
   },
   "outputs": [],
   "source": [
    "# Tag bort denna cell innan leverans till eleverna!\n",
    "\n",
    "stack = []\n",
    "\n",
    "def clr():\n",
    "    del stack[:]\n",
    "\n",
    "def drp():\n",
    "    stack.pop()\n",
    "    \n",
    "def swp(x,y):\n",
    "    stack.append(x)\n",
    "    stack.append(y)\n",
    "\n",
    "hash0 = {}\n",
    "hash0['clr'] = clr\n",
    "hash0['drp'] = drp\n",
    "\n",
    "hash1 = {}\n",
    "hash1['inv'] = lambda x : push(1.0/x) \n",
    "hash1['chs'] = lambda x : push(-x) \n",
    "\n",
    "hash2 = {}\n",
    "hash2['+'] = lambda x,y : push(x+y)\n",
    "hash2['-'] = lambda x,y : push(y-x)\n",
    "hash2['*'] = lambda x,y : push(x*y)\n",
    "hash2['/'] = lambda x,y : push(y/x)\n",
    "hash2['swp'] = swp\n",
    "\n",
    "\n",
    "def push(x):\n",
    "    stack.append(x)\n",
    "\n",
    "def calc(s):\n",
    "    del stack[:]\n",
    "    arr = s.split()\n",
    "    for item in arr:\n",
    "        if item in hash0:\n",
    "            f = hash0[item]\n",
    "            f()\n",
    "        elif item in hash1:\n",
    "            f = hash1[item]\n",
    "            f(stack.pop())\n",
    "        elif item in hash2:\n",
    "            f = hash2[item]\n",
    "            f(stack.pop(), stack.pop())\n",
    "        else:\n",
    "            push(float(item))\n",
    "    return stack      \n",
    "\n",
    "assert calc('2 3 +') == [5]\n",
    "assert calc('2 3 *') == [6]\n",
    "assert calc('2 3 -') == [-1]\n",
    "assert calc('2 3 4 + +') == [9]\n",
    "assert calc('2 3 4 * +') == [14]\n",
    "assert calc('10 2 /') == [5]\n",
    "assert calc('2 3 clr') == []\n",
    "assert calc('2 3 swp') == [3,2]\n",
    "assert calc('2 3 drp') == [2]\n",
    "assert calc('4 inv') == [0.25]\n",
    "assert calc('4 chs') == [-4]\n",
    "assert calc('-4 chs') == [4]"
   ]
  },
  {
   "cell_type": "markdown",
   "metadata": {},
   "source": [
    "# Hjälp"
   ]
  },
  {
   "cell_type": "markdown",
   "metadata": {},
   "source": [
    "* googla på \"python string\"\n",
    "* googla på \"stackoverflow python list insert\"\n",
    "* debugga i Pycharm rad för rad. Avläs variablers värden\n",
    "* idle"
   ]
  }
 ],
 "metadata": {
  "kernelspec": {
   "display_name": "Python 2",
   "language": "python",
   "name": "python2"
  },
  "language_info": {
   "codemirror_mode": {
    "name": "ipython",
    "version": 2
   },
   "file_extension": ".py",
   "mimetype": "text/x-python",
   "name": "python",
   "nbconvert_exporter": "python",
   "pygments_lexer": "ipython2",
   "version": "2.7.9"
  }
 },
 "nbformat": 4,
 "nbformat_minor": 0
}
