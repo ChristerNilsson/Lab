{
 "cells": [
  {
   "cell_type": "code",
   "execution_count": 2,
   "metadata": {
    "collapsed": true,
    "scrolled": true
   },
   "outputs": [],
   "source": [
    "def ass(a, b): \n",
    "    if a == b:\n",
    "        print \"ok!\"\n",
    "    else:\n",
    "        print \"Assert misslyckades: \"\n",
    "        print \" Är: \", a \n",
    "        print \"Bör: \", b\n",
    "        assert a == b"
   ]
  },
  {
   "cell_type": "code",
   "execution_count": null,
   "metadata": {
    "collapsed": true,
    "scrolled": true
   },
   "outputs": [],
   "source": [
    "# Fakta\n",
    "\n",
    "# Länk: https://www.google.se/search?q=enigma+machine\n",
    "\n",
    "# random\n",
    "# seed\n",
    "# shuffle\n",
    "# class\n",
    "# methods\n",
    "# self\n",
    "# __init__\n",
    "# [for]"
   ]
  },
  {
   "cell_type": "code",
   "execution_count": null,
   "metadata": {
    "collapsed": false,
    "scrolled": true
   },
   "outputs": [],
   "source": [
    "class Chiffer():\n",
    "    def __init__(self, t1, t2):\n",
    "        self.t1 = t1\n",
    "        self.t2 = t2\n",
    "    def code(self, a, b, text):\n",
    "        return ''.join([b[a.index(ch)] for ch in text])\n",
    "    def encode(self, text):\n",
    "        return self.code(self.t1, self.t2,text)\n",
    "    def decode(self, text):\n",
    "        return self.code(self.t2, self.t1,text)\n",
    "\n",
    "chiffer = Chiffer(u'abcdefghijklmnopqrstuvwxyzåäö', u'bcdefghijklmnopqrstuvwxyzåäöa') # Förskjutning med ett\n",
    "ass(chiffer.encode(u'christer'), u'disjtufs')\n",
    "ass(chiffer.decode(u'disjtufs'), u'christer')\n",
    "ass(chiffer.encode(u'räksmörgås'), u'söltnashät')\n",
    "ass(chiffer.decode(u'söltnashät'), u'räksmörgås')\n",
    "\n",
    "chiffer = Chiffer(u'abcdefghijklmnopqrstuvwxyzåäö', u'ecdfighjoklmnpuqrstvywxåzäöab') # vokaler för sig, konsonanter för sig.\n",
    "ass(chiffer.encode(u'kasper'), u'letqis')\n",
    "ass(chiffer.decode(u'letqis'), u'kasper')"
   ]
  },
  {
   "cell_type": "code",
   "execution_count": null,
   "metadata": {
    "collapsed": true,
    "scrolled": true
   },
   "outputs": [],
   "source": [
    "# Tecken som ej ingår ska skickas igenom oförändrade, alternativt förbjudas. '1' kan skrivas 'ett' osv.\n",
    "# Enigma hade fem hjul. Dvs krypterade texten fem gånger i rad. Motsvarar fem stycken Chiffer i serie.\n",
    "# Skapa klassen Enigma"
   ]
  },
  {
   "cell_type": "code",
   "execution_count": null,
   "metadata": {
    "collapsed": false,
    "scrolled": true
   },
   "outputs": [],
   "source": [
    "# Skicka in ett seed som skapar nyckeln\n",
    "\n",
    "import random\n",
    "\n",
    "class Chiffer():\n",
    "    def __init__(self, seed=0.5):\n",
    "        self.t1 = u'abcdefghijklmnopqrstuvwxyzåäö'\n",
    "        self.t2 = [ch for ch in self.t1]\n",
    "        random.seed(seed)\n",
    "        random.shuffle(self.t2)\n",
    "    def code(self, a, b, text):\n",
    "        return ''.join([b[a.index(ch)] for ch in text])\n",
    "    def encode(self, text):\n",
    "        return self.code(self.t1, self.t2,text)\n",
    "    def decode(self, text):\n",
    "        return self.code(self.t2, self.t1,text)\n",
    "\n",
    "chiffer = Chiffer(0.1) \n",
    "ass(chiffer.encode(u'christer'), u'iåvpfwkv')\n",
    "ass(chiffer.decode(u'iåvpfwkv'), u'christer')\n",
    "\n",
    "chiffer = Chiffer(0.12)\n",
    "ass(chiffer.encode(u'christer'), u'bgåxuidå')\n",
    "ass(chiffer.decode(u'bgåxuidå'), u'christer')\n",
    "ass(chiffer.decode(u'aaaaaaaa'), u'uuuuuuuu')\n"
   ]
  },
  {
   "cell_type": "code",
   "execution_count": 4,
   "metadata": {
    "collapsed": false,
    "scrolled": true
   },
   "outputs": [
    {
     "name": "stdout",
     "output_type": "stream",
     "text": [
      "ok!\n",
      "ok!\n",
      "ok!\n",
      "ok!\n",
      "ok!\n",
      "ok!\n",
      "ok!\n",
      "ok!\n",
      "ok!\n",
      "ok!\n",
      "ok!\n",
      "ok!\n",
      "ok!\n",
      "ok!\n"
     ]
    }
   ],
   "source": [
    "# Skicka in ett inkrement. Första tecknet medför förskjutning med en pos. Andra tecknet två osv. t ex 'aaa' => 'abc'\n",
    "# Hemliga nycklen utgörs då av seed + incr.\n",
    "\n",
    "import random\n",
    "\n",
    "class Chiffer():\n",
    "    def __init__(self, seed=0.5, incr=0):\n",
    "        self.t1 = u'abcdefghijklmnopqrstuvwxyzåäö'\n",
    "        self.t2 = [ch for ch in self.t1]\n",
    "        self.incr = incr\n",
    "        random.seed(seed)\n",
    "        random.shuffle(self.t2)\n",
    "    def code(self, a, b, text, incr=0):\n",
    "        offset = 0 \n",
    "        res = ''\n",
    "        for ch in text:\n",
    "            i = a.index(ch)\n",
    "            res += b[(offset + i) % len(a)]\n",
    "            offset += incr\n",
    "        return res\n",
    "    def encode(self,text):\n",
    "        return self.code(a=self.t1, b=self.t2, text=text, incr=self.incr)\n",
    "    def decode(self,text):\n",
    "        return self.code(a=self.t2, b=self.t1, text=text, incr=-self.incr)\n",
    "\n",
    "chiffer = Chiffer(seed=0.1, incr=0) \n",
    "ass(''.join(chiffer.t2), u'dbilkuoåptjmrysäzvfwngxaöhcqe')\n",
    "\n",
    "ass(chiffer.encode(u'christer'), u'iåvpfwkv')\n",
    "ass(chiffer.decode(u'iåvpfwkv'), u'christer')\n",
    "\n",
    "chiffer = Chiffer(seed=0.12, incr=1)\n",
    "ass(''.join(chiffer.t2), u'krbedöfgxvmwzstäjåuiaynplcohq')\n",
    "ass(chiffer.encode(u'christer'), u'bxiwnlml')\n",
    "ass(chiffer.decode(u'bxiwnlml'), u'christer')\n",
    "ass(chiffer.encode(u'aaaaaaaa'), u'krbedöfg')\n",
    "ass(chiffer.decode(u'krbedöfg'), u'aaaaaaaa')\n",
    "\n",
    "chiffer = Chiffer(seed=0.11, incr=0) \n",
    "ass(''.join(chiffer.t2), u'japyhuknemfdöqwosivxgåbrtäczl')\n",
    "\n",
    "chiffer = Chiffer(seed=0.113, incr=0) \n",
    "ass(''.join(chiffer.t2), u'aqärwdsnpibtåeokcyömzlxgujfvh')\n",
    "\n",
    "chiffer = Chiffer(seed=0.11300001, incr=0) \n",
    "ass(''.join(chiffer.t2), u'zibwkxmjålagsäurocöqvtefdhnpy')\n",
    "\n",
    "chiffer = Chiffer(seed=0.113000000001, incr=0) \n",
    "ass(''.join(chiffer.t2), u'urjnsegxofåvakyqmhdöpiätzwlbc')\n",
    "\n",
    "chiffer = Chiffer(seed=0.1130000000000001, incr=0) \n",
    "ass(''.join(chiffer.t2), u'låiägrtudknowcvjbyxheqszfmapö')\n",
    "\n",
    "chiffer = Chiffer(seed=0.1130000000000001, incr=0) \n",
    "ass(''.join(chiffer.t2), u'låiägrtudknowcvjbyxheqszfmapö')"
   ]
  }
 ],
 "metadata": {
  "kernelspec": {
   "display_name": "Python 2",
   "language": "python",
   "name": "python2"
  },
  "language_info": {
   "codemirror_mode": {
    "name": "ipython",
    "version": 2
   },
   "file_extension": ".py",
   "mimetype": "text/x-python",
   "name": "python",
   "nbconvert_exporter": "python",
   "pygments_lexer": "ipython2",
   "version": "2.7.10"
  }
 },
 "nbformat": 4,
 "nbformat_minor": 0
}
