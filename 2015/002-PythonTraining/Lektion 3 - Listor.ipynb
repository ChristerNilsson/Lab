{
 "cells": [
  {
   "cell_type": "code",
   "execution_count": 7,
   "metadata": {
    "collapsed": true
   },
   "outputs": [],
   "source": [
    "def ass(a, b): \n",
    "    if a == b:\n",
    "        print  \"ok!\"\n",
    "    else:\n",
    "        print \"Assert misslyckades: \"\n",
    "        print \" Fel: \", a \n",
    "        print \"Rätt: \", b"
   ]
  },
  {
   "cell_type": "markdown",
   "metadata": {},
   "source": [
    "### Fakta"
   ]
  },
  {
   "cell_type": "markdown",
   "metadata": {},
   "source": [
    "* _En lista är som en hiss i ett hus._\n",
    "* _Startar med noll i gatuplanet, men saknar källare._\n",
    "* _Man använder heltal för att ange våning._\n",
    "* _Listor kan innehålla allt möjligt._\n",
    "* _T ex tal, strängar, ordlistor och andra listor._"
   ]
  },
  {
   "cell_type": "code",
   "execution_count": 8,
   "metadata": {
    "collapsed": true
   },
   "outputs": [],
   "source": [
    "a = []\n",
    "a.append(10)\n",
    "assert a == [10]\n",
    "a.append(11)\n",
    "assert a == [10,11]\n",
    "assert a[1] == 11\n",
    "a[0] = 9\n",
    "assert a == [9,11]\n",
    "a.insert(1,10)\n",
    "assert a == [9,10,11]\n",
    "del a[1]\n",
    "assert a == [9,11]\n",
    "assert len(a) == 2\n",
    "a.append(11)\n",
    "assert a == [9,11,11]\n",
    "assert a.count(11) == 2\n",
    "assert a.index(11) == 1\n",
    "b = a.pop()\n",
    "assert b == 11\n",
    "assert a == [9,11]\n",
    "a.remove(9)\n",
    "assert a == [11]\n",
    "a.extend([9,10])\n",
    "assert a == [11,9,10]\n",
    "assert a[::-1] == [10,9,11]\n",
    "assert sorted(a) == [9,10,11]\n",
    "assert 2*a == [11,9,10,11,9,10]\n",
    "assert a+a == [11,9,10,11,9,10]"
   ]
  },
  {
   "cell_type": "markdown",
   "metadata": {},
   "source": [
    "### Övningar"
   ]
  },
  {
   "cell_type": "code",
   "execution_count": 9,
   "metadata": {
    "collapsed": true
   },
   "outputs": [],
   "source": [
    "a = [3,2,4]"
   ]
  },
  {
   "cell_type": "code",
   "execution_count": 10,
   "metadata": {
    "collapsed": false
   },
   "outputs": [
    {
     "name": "stdout",
     "output_type": "stream",
     "text": [
      "Assert misslyckades: \n",
      " Fel:  []\n",
      "Rätt:  [2, 3, 4]\n"
     ]
    }
   ],
   "source": [
    "def f(x): return []\n",
    "ass(f(a), [2,3,4])"
   ]
  },
  {
   "cell_type": "code",
   "execution_count": 11,
   "metadata": {
    "collapsed": false
   },
   "outputs": [
    {
     "name": "stdout",
     "output_type": "stream",
     "text": [
      "Assert misslyckades: \n",
      " Fel:  []\n",
      "Rätt:  [4, 2, 3]\n"
     ]
    }
   ],
   "source": [
    "def g(x): return []\n",
    "ass(g(a), [4,2,3])"
   ]
  },
  {
   "cell_type": "code",
   "execution_count": 12,
   "metadata": {
    "collapsed": false
   },
   "outputs": [
    {
     "name": "stdout",
     "output_type": "stream",
     "text": [
      "Assert misslyckades: \n",
      " Fel:  []\n",
      "Rätt:  [3, 2, 4, 4, 2, 3]\n"
     ]
    }
   ],
   "source": [
    "def h(x): return []\n",
    "ass(h(a), [3,2,4,4,2,3])"
   ]
  },
  {
   "cell_type": "code",
   "execution_count": 13,
   "metadata": {
    "collapsed": false
   },
   "outputs": [
    {
     "name": "stdout",
     "output_type": "stream",
     "text": [
      "Assert misslyckades: \n",
      " Fel:  []\n",
      "Rätt:  [4, 4, 3, 3, 2, 2]\n"
     ]
    }
   ],
   "source": [
    "def i(x): return []\n",
    "ass(i(a), [4,4,3,3,2,2])"
   ]
  },
  {
   "cell_type": "code",
   "execution_count": 14,
   "metadata": {
    "collapsed": false
   },
   "outputs": [
    {
     "name": "stdout",
     "output_type": "stream",
     "text": [
      "Assert misslyckades: \n",
      " Fel:  []\n",
      "Rätt:  [1, 3, 2, 4]\n"
     ]
    }
   ],
   "source": [
    "def j(x): return []\n",
    "ass(j(a), [1,3,2,4])"
   ]
  },
  {
   "cell_type": "code",
   "execution_count": 15,
   "metadata": {
    "collapsed": false
   },
   "outputs": [
    {
     "name": "stdout",
     "output_type": "stream",
     "text": [
      "Assert misslyckades: \n",
      " Fel:  []\n",
      "Rätt:  [3, 2, 4, 5]\n"
     ]
    }
   ],
   "source": [
    "def k(x): return []\n",
    "ass(k(a), [3,2,4,5])"
   ]
  },
  {
   "cell_type": "code",
   "execution_count": 16,
   "metadata": {
    "collapsed": false
   },
   "outputs": [
    {
     "name": "stdout",
     "output_type": "stream",
     "text": [
      "ok!\n"
     ]
    }
   ],
   "source": [
    "ass(a, [3,2,4])"
   ]
  }
 ],
 "metadata": {
  "kernelspec": {
   "display_name": "Python 2",
   "language": "python",
   "name": "python2"
  },
  "language_info": {
   "codemirror_mode": {
    "name": "ipython",
    "version": 2
   },
   "file_extension": ".py",
   "mimetype": "text/x-python",
   "name": "python",
   "nbconvert_exporter": "python",
   "pygments_lexer": "ipython2",
   "version": "2.7.10"
  }
 },
 "nbformat": 4,
 "nbformat_minor": 0
}
