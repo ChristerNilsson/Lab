{
 "cells": [
  {
   "cell_type": "markdown",
   "metadata": {},
   "source": [
    "# 002-PythonTraining Sekvens"
   ]
  },
  {
   "cell_type": "code",
   "execution_count": 60,
   "metadata": {
    "collapsed": false
   },
   "outputs": [],
   "source": [
    "def seq(f, n=10):\n",
    "    res = []\n",
    "    for x in range(n):\n",
    "        res.append(f(x))\n",
    "    return res\n",
    "\n",
    "def seq(f, n=10):\n",
    "    return [f(x) for x in range(n)]"
   ]
  },
  {
   "cell_type": "code",
   "execution_count": 99,
   "metadata": {
    "collapsed": false
   },
   "outputs": [],
   "source": [
    "# + - * / ** % round sqrt\n",
    "import math\n",
    "\n",
    "# Först halvan deletas (allt utom a)\n",
    "\n",
    "a = lambda x : 0\n",
    "b = lambda x : x\n",
    "c = lambda x : x+x\n",
    "d = lambda x : x+3\n",
    "e = lambda x : 2*x+1\n",
    "f = lambda x : x*x\n",
    "g = lambda x : -x\n",
    "h = lambda x : x*x-1\n",
    "i = lambda x : 2**x\n",
    "j = lambda x : x/2.0\n",
    "k = lambda x : x/3\n",
    "l = lambda x : 1.0/(x+1)\n",
    "m = lambda x : x%2\n",
    "n = lambda x : x%2+1\n",
    "o = lambda x : x%3+7\n",
    "p = lambda x : x*(1+x)/2\n",
    "q = lambda x : 3*x*x+2*x-1\n",
    "r = lambda x : x if x<=1 else r(x-1) + r(x-2)\n",
    "s = lambda x : x*(-1)**x\n",
    "t = lambda x : x*str(x)\n",
    "u = lambda x : 10**x\n",
    "v = lambda x : math.sqrt(x)\n",
    "x = lambda x : round(math.pi,x)\n",
    "y = lambda x : x ** x\n",
    "z = lambda x : '0' if x == 0 else z(x-1) + str(x) \n",
    "\n",
    "assert seq(a) == [0,0,0,0,0,0,0,0,0,0]\n",
    "assert seq(b) == [0,1,2,3,4,5,6,7,8,9]\n",
    "assert seq(c) == [0,2,4,6,8,10,12,14,16,18]\n",
    "assert seq(d) == [3,4,5,6,7,8,9,10,11,12]\n",
    "assert seq(e) == [1,3,5,7,9,11,13,15,17,19]\n",
    "assert seq(f) == [0,1,4,9,16,25,36,49,64,81]\n",
    "assert seq(g) == [0,-1,-2,-3,-4,-5,-6,-7,-8,-9]\n",
    "assert seq(h) == [-1,0,3,8,15,24,35,48,63,80]\n",
    "assert seq(i) == [1,2,4,8,16,32,64,128,256,512]\n",
    "assert seq(j) == [0.0, 0.5, 1.0, 1.5, 2.0, 2.5, 3, 3.5, 4, 4.5]\n",
    "assert seq(k) == [0,0,0,1,1,1,2,2,2,3]\n",
    "assert seq(l,7) == [1.0, 0.5, 0.3333333333333333, 0.25, 0.2, 0.16666666666666666, 0.14285714285714285]\n",
    "assert seq(m) == [0,1,0,1,0,1,0,1,0,1]\n",
    "assert seq(n) == [1,2,1,2,1,2,1,2,1,2]\n",
    "assert seq(o) == [7,8,9,7,8,9,7,8,9,7]\n",
    "assert seq(p,20) == [0, 1, 3, 6, 10, 15, 21, 28, 36, 45, 55, 66, 78, 91, 105, 120, 136, 153, 171, 190]\n",
    "assert seq(q) == [-1, 4, 15, 32, 55, 84, 119, 160, 207, 260]\n",
    "assert seq(r) == [0,1,1,2,3,5,8,13,21,34]\n",
    "assert seq(s) == [0,-1,2,-3,4,-5,6,-7,8,-9]\n",
    "assert seq(t) == ['', '1', '22', '333', '4444', '55555', '666666', '7777777', '88888888', '999999999']\n",
    "assert seq(u) == [1, 10, 100, 1000, 10000, 100000, 1000000, 10000000, 100000000, 1000000000]\n",
    "assert seq(v,7) == [0.0, 1.0, 1.4142135623730951, 1.7320508075688772, 2.0, 2.23606797749979, 2.449489742783178]\n",
    "assert seq(x) == [3.0, 3.1, 3.14, 3.142, 3.1416, 3.14159, 3.141593, 3.1415927, 3.14159265, 3.141592654]\n",
    "assert seq(y) == [1, 1, 4, 27, 256, 3125, 46656, 823543, 16777216, 387420489]\n",
    "assert seq(z) == ['0', '01', '012', '0123', '01234', '012345', '0123456', '01234567', '012345678', '0123456789']"
   ]
  }
 ],
 "metadata": {
  "kernelspec": {
   "display_name": "Python 2",
   "language": "python",
   "name": "python2"
  },
  "language_info": {
   "codemirror_mode": {
    "name": "ipython",
    "version": 2
   },
   "file_extension": ".py",
   "mimetype": "text/x-python",
   "name": "python",
   "nbconvert_exporter": "python",
   "pygments_lexer": "ipython2",
   "version": "2.7.10"
  }
 },
 "nbformat": 4,
 "nbformat_minor": 0
}
