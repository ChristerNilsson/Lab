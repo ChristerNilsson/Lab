{
 "cells": [
  {
   "cell_type": "markdown",
   "metadata": {},
   "source": [
    "# Chinese Child Policy"
   ]
  },
  {
   "cell_type": "code",
   "execution_count": null,
   "metadata": {
    "collapsed": true
   },
   "outputs": [],
   "source": [
    "import random"
   ]
  },
  {
   "cell_type": "code",
   "execution_count": 122,
   "metadata": {
    "collapsed": false
   },
   "outputs": [
    {
     "name": "stdout",
     "output_type": "stream",
     "text": [
      "bg\n",
      "bg\n",
      "bbbbbbbbbg\n",
      "gggb\n",
      "gggb\n",
      "gb\n",
      "gggb\n",
      "gb\n",
      "bbbbbbg\n",
      "bbbg\n",
      "0.390243902439 41\n"
     ]
    }
   ],
   "source": [
    "# until one of each\n",
    "# girl <= 0.5\n",
    "girls = 0\n",
    "boys = 0\n",
    "n = 10\n",
    "for i in range(n):\n",
    "    total = [0,0]\n",
    "    s = ''\n",
    "    while total[0] == 0 or total[1] == 0:\n",
    "        c = random.randrange(2)\n",
    "        total[c] += 1\n",
    "        s += 'gb'[c]\n",
    "    girls+=total[0]\n",
    "    boys+=total[1]\n",
    "    print s\n",
    "print 1.0*girls/(girls+boys),girls+boys"
   ]
  },
  {
   "cell_type": "code",
   "execution_count": 137,
   "metadata": {
    "collapsed": false
   },
   "outputs": [
    {
     "name": "stdout",
     "output_type": "stream",
     "text": [
      "g\n",
      "bg\n",
      "g\n",
      "bbg\n",
      "g\n",
      "bbg\n",
      "g\n",
      "g\n",
      "bbbbg\n",
      "bg\n",
      "0.5 20\n"
     ]
    }
   ],
   "source": [
    "# until one girl\n",
    "# girl <= 0.5\n",
    "girls = 0\n",
    "boys = 0\n",
    "n = 10\n",
    "for i in range(n):\n",
    "    total = [0,0]\n",
    "    s = ''\n",
    "    while total[0] == 0:\n",
    "        c=random.randrange(2)\n",
    "        total[c] += 1\n",
    "        s += 'gb'[c]\n",
    "    girls+=total[0]\n",
    "    boys+=total[1]\n",
    "    print s\n",
    "print 1.0*girls/(girls+boys),girls+boys"
   ]
  },
  {
   "cell_type": "code",
   "execution_count": null,
   "metadata": {
    "collapsed": true
   },
   "outputs": [],
   "source": []
  },
  {
   "cell_type": "code",
   "execution_count": null,
   "metadata": {
    "collapsed": true
   },
   "outputs": [],
   "source": []
  },
  {
   "cell_type": "code",
   "execution_count": null,
   "metadata": {
    "collapsed": true
   },
   "outputs": [],
   "source": []
  },
  {
   "cell_type": "code",
   "execution_count": null,
   "metadata": {
    "collapsed": true
   },
   "outputs": [],
   "source": []
  },
  {
   "cell_type": "code",
   "execution_count": null,
   "metadata": {
    "collapsed": true
   },
   "outputs": [],
   "source": []
  },
  {
   "cell_type": "code",
   "execution_count": null,
   "metadata": {
    "collapsed": true
   },
   "outputs": [],
   "source": []
  },
  {
   "cell_type": "code",
   "execution_count": null,
   "metadata": {
    "collapsed": true
   },
   "outputs": [],
   "source": []
  },
  {
   "cell_type": "code",
   "execution_count": null,
   "metadata": {
    "collapsed": true
   },
   "outputs": [],
   "source": []
  },
  {
   "cell_type": "code",
   "execution_count": null,
   "metadata": {
    "collapsed": true
   },
   "outputs": [],
   "source": []
  }
 ],
 "metadata": {
  "kernelspec": {
   "display_name": "Python 2",
   "language": "python",
   "name": "python2"
  },
  "language_info": {
   "codemirror_mode": {
    "name": "ipython",
    "version": 2
   },
   "file_extension": ".py",
   "mimetype": "text/x-python",
   "name": "python",
   "nbconvert_exporter": "python",
   "pygments_lexer": "ipython2",
   "version": "2.7.9"
  }
 },
 "nbformat": 4,
 "nbformat_minor": 0
}
