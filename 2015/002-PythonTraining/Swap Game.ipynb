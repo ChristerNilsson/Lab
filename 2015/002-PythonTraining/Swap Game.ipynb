{
 "cells": [
  {
   "cell_type": "code",
   "execution_count": 5,
   "metadata": {
    "collapsed": true
   },
   "outputs": [],
   "source": [
    "# Spelet går ut på att man ska ta sig från en sträng till en annan med hjälp av fyra operationer\n",
    "# Minst antal operationer är målsättningen\n",
    "# Operationerna är:\n",
    "#   s = swap last two characters\n",
    "#   < = rotate left\n",
    "#   > = rotate right\n",
    "#   r = reverse\n",
    "def turn(s,ops):\n",
    "    hash = {}\n",
    "    hash['s'] = lambda s : s[:-2] + s[-2:][::-1]\n",
    "    hash['<'] = lambda s : s[1:] + s[0] \n",
    "    hash['>'] = lambda s : s[-1] + s[:-1]\n",
    "    hash['r'] = lambda s : s[::-1]\n",
    "    for op in ops:\n",
    "        s = hash[op](s)\n",
    "    return s"
   ]
  },
  {
   "cell_type": "code",
   "execution_count": 6,
   "metadata": {
    "collapsed": false
   },
   "outputs": [],
   "source": [
    "assert turn('abcd','s') == 'abdc'\n",
    "assert turn('abcd','<') == 'bcda'\n",
    "assert turn('abcd','>') == 'dabc'\n",
    "assert turn('abcd','r') == 'dcba'"
   ]
  },
  {
   "cell_type": "code",
   "execution_count": 7,
   "metadata": {
    "collapsed": true
   },
   "outputs": [],
   "source": [
    "assert turn('abcd','ss') == 'abcd'\n",
    "assert turn('abcd','<<<<') == 'abcd'\n",
    "assert turn('abcd','>>>>') == 'abcd'\n",
    "assert turn('abcd','rr') == 'abcd'"
   ]
  },
  {
   "cell_type": "code",
   "execution_count": 8,
   "metadata": {
    "collapsed": true
   },
   "outputs": [],
   "source": [
    "assert turn('cdba','s<<') == 'abcd'"
   ]
  },
  {
   "cell_type": "code",
   "execution_count": 9,
   "metadata": {
    "collapsed": false
   },
   "outputs": [],
   "source": [
    "assert turn('aadhlr','s<s<<s<s>>') == 'harald'"
   ]
  },
  {
   "cell_type": "code",
   "execution_count": 10,
   "metadata": {
    "collapsed": false
   },
   "outputs": [],
   "source": [
    "assert turn('cehirrst','<<s<<<s<<s<s<s') == 'christer'"
   ]
  },
  {
   "cell_type": "code",
   "execution_count": 34,
   "metadata": {
    "collapsed": false
   },
   "outputs": [],
   "source": [
    "def solve(s):\n",
    "    solutions = { s : ('', '') }\n",
    "    queue = [(s,'')]\n",
    "    while len(queue) > 0:\n",
    "        s,ops = queue.pop(0)\n",
    "        for op in 's<>r':\n",
    "            t = turn(s, op)\n",
    "            if t not in solutions:\n",
    "                solutions[t] = (s, ops + op)\n",
    "                queue.append((t,ops+op))\n",
    "    return solutions\n",
    "\n",
    "def find(s,t):\n",
    "    solutions = solve(s)  \n",
    "    ops = solutions[t][1]\n",
    "    return len(solutions), ops, len(ops)"
   ]
  },
  {
   "cell_type": "code",
   "execution_count": 36,
   "metadata": {
    "collapsed": false
   },
   "outputs": [
    {
     "name": "stdout",
     "output_type": "stream",
     "text": [
      "(24, 's<s', 3)\n",
      "(360, '<s<rs>', 6)\n",
      "(720, '>s>s<', 5)\n",
      "(20160, '<<s<rs>srs>s>', 13)\n"
     ]
    }
   ],
   "source": [
    "print find('airv','ivar') \n",
    "print find('aadhlr','harald')\n",
    "print find('ikortv','viktor') \n",
    "print find('cehirrst','christer') "
   ]
  },
  {
   "cell_type": "code",
   "execution_count": null,
   "metadata": {
    "collapsed": true
   },
   "outputs": [],
   "source": []
  }
 ],
 "metadata": {
  "kernelspec": {
   "display_name": "Python 2",
   "language": "python",
   "name": "python2"
  },
  "language_info": {
   "codemirror_mode": {
    "name": "ipython",
    "version": 2
   },
   "file_extension": ".py",
   "mimetype": "text/x-python",
   "name": "python",
   "nbconvert_exporter": "python",
   "pygments_lexer": "ipython2",
   "version": "2.7.10"
  }
 },
 "nbformat": 4,
 "nbformat_minor": 0
}
