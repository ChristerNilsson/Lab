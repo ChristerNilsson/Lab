{
 "cells": [
  {
   "cell_type": "code",
   "execution_count": 21,
   "metadata": {
    "collapsed": true
   },
   "outputs": [],
   "source": [
    "def ass(a, b): \n",
    "    if a == b:\n",
    "        print  \"ok!\"\n",
    "    else:\n",
    "        print \"Assert misslyckades: \"\n",
    "        print \" Fel: \", a \n",
    "        print \"Rätt: \", b"
   ]
  },
  {
   "cell_type": "markdown",
   "metadata": {},
   "source": [
    "### Fakta"
   ]
  },
  {
   "cell_type": "markdown",
   "metadata": {},
   "source": [
    "* _Strängar kan innehålla vilka tecken som helst. _\n",
    "* _Måste avgränsas med fnutt (') eller dubbelfnutt (\")._"
   ]
  },
  {
   "cell_type": "code",
   "execution_count": 22,
   "metadata": {
    "collapsed": true
   },
   "outputs": [],
   "source": [
    "a = \"harald\" \n",
    "assert len(a) == 6\n",
    "assert a[0] == 'h'\n",
    "assert a[-1] == 'd'\n",
    "assert a[1:3] == 'ar'\n",
    "assert a[0:6:2] == 'hrl'\n",
    "assert a[::-1] == 'dlarah'\n",
    "assert list('harald') == ['h','a','r','a','l','d']\n",
    "assert sorted(a) == ['a', 'a', 'd', 'h', 'l', 'r']\n",
    "assert a + a == 'haraldharald'\n",
    "assert 2 * a == 'haraldharald'\n",
    "\n",
    "assert a.capitalize() == 'Harald'\n",
    "assert a.count('a') == 2\n",
    "assert a.startswith('h') == True\n",
    "assert a.endswith('ld') \n",
    "assert a.index('a') == 1\n",
    "assert a.rindex('a') == 3\n",
    "lst = ['adam','bertil']\n",
    "assert ' '.join(lst) == 'adam bertil'\n",
    "assert a.replace('a','*') == 'h*r*ld'\n",
    "assert 'adam bertil'.split(' ') == ['adam','bertil'] \n",
    "assert ' ivar '.strip() == 'ivar'\n",
    "assert a.upper() == 'HARALD'"
   ]
  },
  {
   "cell_type": "markdown",
   "metadata": {},
   "source": [
    "### Övningar"
   ]
  },
  {
   "cell_type": "code",
   "execution_count": 23,
   "metadata": {
    "collapsed": false
   },
   "outputs": [
    {
     "name": "stdout",
     "output_type": "stream",
     "text": [
      "Assert misslyckades: \n",
      " Fel:  \n",
      "Rätt:  Pelle\n"
     ]
    }
   ],
   "source": [
    "def f(x): return ''\n",
    "ass(f('pelle'), 'Pelle')"
   ]
  },
  {
   "cell_type": "code",
   "execution_count": 24,
   "metadata": {
    "collapsed": false
   },
   "outputs": [
    {
     "name": "stdout",
     "output_type": "stream",
     "text": [
      "Assert misslyckades: \n",
      " Fel:  \n",
      "Rätt:  PELLE\n"
     ]
    }
   ],
   "source": [
    "def g(x): return ''\n",
    "ass(g('pelle'), 'PELLE')"
   ]
  },
  {
   "cell_type": "code",
   "execution_count": 25,
   "metadata": {
    "collapsed": false
   },
   "outputs": [
    {
     "name": "stdout",
     "output_type": "stream",
     "text": [
      "Assert misslyckades: \n",
      " Fel:  \n",
      "Rätt:  k\n"
     ]
    }
   ],
   "source": [
    "def h(x): return ''\n",
    "ass(h('viktor'), 'k')"
   ]
  },
  {
   "cell_type": "code",
   "execution_count": 26,
   "metadata": {
    "collapsed": false
   },
   "outputs": [
    {
     "name": "stdout",
     "output_type": "stream",
     "text": [
      "Assert misslyckades: \n",
      " Fel:  \n",
      "Rätt:  kt\n"
     ]
    }
   ],
   "source": [
    "def i(x): return ''\n",
    "ass(i('viktor'), 'kt')"
   ]
  },
  {
   "cell_type": "code",
   "execution_count": 27,
   "metadata": {
    "collapsed": false
   },
   "outputs": [
    {
     "name": "stdout",
     "output_type": "stream",
     "text": [
      "Assert misslyckades: \n",
      " Fel:  \n",
      "Rätt:  viktor\n"
     ]
    }
   ],
   "source": [
    "def j(x): return ''\n",
    "ass(j('rotkiv'), 'viktor')"
   ]
  },
  {
   "cell_type": "code",
   "execution_count": 28,
   "metadata": {
    "collapsed": false
   },
   "outputs": [
    {
     "name": "stdout",
     "output_type": "stream",
     "text": [
      "Assert misslyckades: \n",
      " Fel:  []\n",
      "Rätt:  ['chr', 'ster n', 'lsson']\n"
     ]
    }
   ],
   "source": [
    "def k(x): return []\n",
    "ass(k('christer nilsson'), ['chr','ster n','lsson'])"
   ]
  },
  {
   "cell_type": "code",
   "execution_count": 29,
   "metadata": {
    "collapsed": false
   },
   "outputs": [
    {
     "name": "stdout",
     "output_type": "stream",
     "text": [
      "Assert misslyckades: \n",
      " Fel:  \n",
      "Rätt:  chr#ster n#lsson\n"
     ]
    }
   ],
   "source": [
    "def l(a,b,c): return ''\n",
    "ass(l('christer nilsson','i','#'), 'chr#ster n#lsson')"
   ]
  },
  {
   "cell_type": "code",
   "execution_count": 30,
   "metadata": {
    "collapsed": false
   },
   "outputs": [
    {
     "name": "stdout",
     "output_type": "stream",
     "text": [
      "Assert misslyckades: \n",
      " Fel:  \n",
      "Rätt:  christer nilsson\n"
     ]
    }
   ],
   "source": [
    "def m(x): return ''\n",
    "ass(m('nossl*n rets*rhc'), 'christer nilsson')"
   ]
  },
  {
   "cell_type": "code",
   "execution_count": 31,
   "metadata": {
    "collapsed": false
   },
   "outputs": [
    {
     "name": "stdout",
     "output_type": "stream",
     "text": [
      "Assert misslyckades: \n",
      " Fel:  \n",
      "Rätt:  c-e-h-i-r-r-s-t\n"
     ]
    }
   ],
   "source": [
    "def n(x): return ''\n",
    "ass(n('christer'), 'c-e-h-i-r-r-s-t')"
   ]
  },
  {
   "cell_type": "code",
   "execution_count": 32,
   "metadata": {
    "collapsed": false
   },
   "outputs": [
    {
     "name": "stdout",
     "output_type": "stream",
     "text": [
      "Assert misslyckades: \n",
      " Fel:  \n",
      "Rätt:  ivar|ravi\n"
     ]
    }
   ],
   "source": [
    "def o(x): return ''\n",
    "ass(o('ivar'), 'ivar|ravi')"
   ]
  },
  {
   "cell_type": "code",
   "execution_count": null,
   "metadata": {
    "collapsed": false
   },
   "outputs": [],
   "source": []
  }
 ],
 "metadata": {
  "kernelspec": {
   "display_name": "Python 2",
   "language": "python",
   "name": "python2"
  },
  "language_info": {
   "codemirror_mode": {
    "name": "ipython",
    "version": 2
   },
   "file_extension": ".py",
   "mimetype": "text/x-python",
   "name": "python",
   "nbconvert_exporter": "python",
   "pygments_lexer": "ipython2",
   "version": "2.7.10"
  }
 },
 "nbformat": 4,
 "nbformat_minor": 0
}
