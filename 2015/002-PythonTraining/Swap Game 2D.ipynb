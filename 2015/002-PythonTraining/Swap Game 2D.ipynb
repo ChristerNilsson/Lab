{
 "cells": [
  {
   "cell_type": "code",
   "execution_count": 16,
   "metadata": {
    "collapsed": false
   },
   "outputs": [],
   "source": [
    "# Spelet går ut på att man ska ta sig från en matris till en annan matris med hjälp av sex operationer\n",
    "# Minst antal operationer är målsättningen\n",
    "# Operationerna är:\n",
    "#   u = rotate rows up\n",
    "#   d = rotate rows down\n",
    "#   r = reverse rows\n",
    "#   t = transpose\n",
    "#   > = right shift\n",
    "#   < = left shift\n",
    "\n",
    "def stringify(m):\n",
    "    return [''.join(row) for row in m]\n",
    "    \n",
    "def transpose(b):\n",
    "    m = map(list, zip(*b))\n",
    "    return stringify(m)\n",
    "\n",
    "def flatten(b):\n",
    "    res = [item for sublist in b for item in sublist]\n",
    "    return res\n",
    "\n",
    "def unflatten(b):\n",
    "    res = [b[0:4],b[4:8],b[8:12],b[12:16]]\n",
    "    return res\n",
    "\n",
    "def rotate_cell(b):\n",
    "    res = [b[15]] + b[0:15]\n",
    "    return res\n",
    "\n",
    "def unrotate_cell(b):\n",
    "    res = b[1:16] + [b[0]]\n",
    "    return res\n",
    "\n",
    "def rotate_board(b):\n",
    "    return [row[::-1] for row in transpose(b)]\n",
    "\n",
    "def unrotate_board(b):\n",
    "    return rotate_board(rotate_board(rotate_board(b)))\n",
    "\n",
    "def turn(b, ops):\n",
    "    b = b.split()\n",
    "    hash = {}\n",
    "    hash['u'] = lambda s : [s[1],s[2],s[3],s[0]]\n",
    "    hash['d'] = lambda s : [s[3],s[0],s[1],s[2]]\n",
    "    hash['r'] = lambda s : [s[3],s[2],s[1],s[0]]\n",
    "    hash['t'] = lambda s : transpose(s)\n",
    "    hash['>'] = lambda s : stringify(unflatten(rotate_cell(flatten(s))))\n",
    "    hash['<'] = lambda s : stringify(unflatten(unrotate_cell(flatten(s))))\n",
    "    hash['c'] = lambda s : rotate_board(s)\n",
    "    hash['a'] = lambda s : unrotate_board(s)\n",
    "    for op in ops:\n",
    "        b = hash[op](b)\n",
    "    return ' '.join(b)\n",
    "\n",
    "board = 'abcd efgh ijkl mnop'\n",
    "assert turn(board,'c') == 'miea njfb okgc plhd'\n",
    "assert turn(board,'a') == 'dhlp cgko bfjn aeim'"
   ]
  },
  {
   "cell_type": "code",
   "execution_count": 2,
   "metadata": {
    "collapsed": false
   },
   "outputs": [],
   "source": [
    "board = 'abcd efgh ijkl mnop'\n",
    "assert turn(board,'u') == 'efgh ijkl mnop abcd'\n",
    "assert turn(board,'d') == 'mnop abcd efgh ijkl'\n",
    "assert turn(board,'r') == 'mnop ijkl efgh abcd'\n",
    "assert turn(board,'t') == 'aeim bfjn cgko dhlp'\n",
    "assert turn(board,'>') == 'pabc defg hijk lmno'\n",
    "assert turn(board,'<') == 'bcde fghi jklm nopa'"
   ]
  },
  {
   "cell_type": "code",
   "execution_count": 3,
   "metadata": {
    "collapsed": true
   },
   "outputs": [],
   "source": [
    "assert turn(board,'uuuu') == board\n",
    "assert turn(board,'dddd') == board\n",
    "assert turn(board,'rr') == board\n",
    "assert turn(board,'tt') == board\n",
    "assert turn(board,'>>>>>>>>>>>>>>>>') == board\n",
    "assert turn(board,'<<<<<<<<<<<<<<<<') == board"
   ]
  },
  {
   "cell_type": "code",
   "execution_count": 4,
   "metadata": {
    "collapsed": false
   },
   "outputs": [],
   "source": [
    "board = '0000 1111 2222 3333'\n",
    "assert turn('1111 2222 3333 0000','d') == board\n",
    "assert turn('3333 0000 1111 2222','u') == board\n",
    "assert turn('3333 2222 1111 0000','r') == board\n",
    "assert turn('0123 0123 0123 0123','t') == board"
   ]
  },
  {
   "cell_type": "code",
   "execution_count": 5,
   "metadata": {
    "collapsed": false
   },
   "outputs": [],
   "source": [
    "assert turn('0000 3333 2222 1111','rd') == board\n",
    "assert turn('0000 3333 2222 1111','ur') == board\n",
    "assert turn('0123 0123 0123 0123','dt') == board\n",
    "assert turn('0123 0123 0123 0123','rt') == board\n",
    "assert turn('0123 0123 0123 0123','ut') == board\n",
    "assert turn('1230 1230 1230 1230','td') == board\n",
    "assert turn('2222 1111 0000 3333','dr') == board\n",
    "assert turn('2222 1111 0000 3333','ru') == board\n",
    "assert turn('2222 3333 0000 1111','dd') == board\n",
    "assert turn('2222 3333 0000 1111','uu') == board\n",
    "assert turn('3012 3012 3012 3012','tu') == board\n",
    "assert turn('3210 3210 3210 3210','tr') == board"
   ]
  },
  {
   "cell_type": "code",
   "execution_count": 6,
   "metadata": {
    "collapsed": false
   },
   "outputs": [
    {
     "name": "stdout",
     "output_type": "stream",
     "text": [
      "0211 3221 0332 1003\n",
      "39294\n"
     ]
    }
   ],
   "source": [
    "board = '0000 1111 2222 3333'\n",
    "def expand(board, n):\n",
    "    q = [board]\n",
    "    solutions = {board : 0}\n",
    "    q2 = []\n",
    "    res = []\n",
    "    for i in range(n):\n",
    "        for b in q:\n",
    "            for op in 'udrt<>':\n",
    "                b2 = turn(b,op)\n",
    "                if b2 not in solutions:\n",
    "                    solutions[b2] = i+1\n",
    "                    q2.append(b2)\n",
    "                    if i == (n-1):\n",
    "                        res.append(b2)\n",
    "        q = q2\n",
    "        q2 = []\n",
    "    return res\n",
    "\n",
    "lst = expand(board,10)\n",
    "print lst[10]\n",
    "print len(lst)"
   ]
  },
  {
   "cell_type": "code",
   "execution_count": 7,
   "metadata": {
    "collapsed": false
   },
   "outputs": [],
   "source": [
    "def solve(s):\n",
    "    solutions = { s : ('', '') }\n",
    "    queue = [(s,'')]\n",
    "    while True:\n",
    "        s,ops = queue.pop(0)\n",
    "        if s == '0000 1111 2222 3333':\n",
    "            return ops\n",
    "        for op in 'udrt<>':\n",
    "            t = turn(s, op)\n",
    "            if t not in solutions:\n",
    "                solutions[t] = (s, ops + op)\n",
    "                queue.append((t,ops+op))"
   ]
  },
  {
   "cell_type": "code",
   "execution_count": 41,
   "metadata": {
    "collapsed": false
   },
   "outputs": [],
   "source": [
    "assert solve('0001 1112 2223 3330') == '>'\n",
    "assert solve('2333 1222 0111 3000') == 'r<'\n",
    "assert solve('3302 2231 1120 0013') == '>r>'\n",
    "assert solve('3022 2311 1200 0133')  == '>>r>'\n",
    "assert solve('2210 3210 3210 3103')  == '<td>r'\n",
    "assert solve('0111 0003 3332 2221')  == 't<tu>r'\n",
    "assert solve('1110 0030 3323 2212')  == 'td<tu>r'\n",
    "assert solve('0322 1030 3211 0321')  == 'u>tuu<r<'\n",
    "#assert solve('2321 2110 1003 0332') == '>tu<tuu<r'\n",
    "#assert solve('1000 0233 3123 2112') == '<r<<t<<t<<'\n",
    "#assert solve('0211 3221 0332 1003') == 'tu<tuu>r>r'"
   ]
  },
  {
   "cell_type": "code",
   "execution_count": 17,
   "metadata": {
    "collapsed": false
   },
   "outputs": [],
   "source": []
  },
  {
   "cell_type": "code",
   "execution_count": null,
   "metadata": {
    "collapsed": true
   },
   "outputs": [],
   "source": []
  }
 ],
 "metadata": {
  "kernelspec": {
   "display_name": "Python 2",
   "language": "python",
   "name": "python2"
  },
  "language_info": {
   "codemirror_mode": {
    "name": "ipython",
    "version": 2
   },
   "file_extension": ".py",
   "mimetype": "text/x-python",
   "name": "python",
   "nbconvert_exporter": "python",
   "pygments_lexer": "ipython2",
   "version": "2.7.10"
  }
 },
 "nbformat": 4,
 "nbformat_minor": 0
}
