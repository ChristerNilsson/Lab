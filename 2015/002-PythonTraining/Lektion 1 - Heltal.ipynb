{
 "cells": [
  {
   "cell_type": "code",
   "execution_count": 10,
   "metadata": {},
   "outputs": [],
   "source": [
    "def ass(a, b): \n",
    "    if a == b:\n",
    "        print \"ok!\"\n",
    "    else:\n",
    "        print \"Assert misslyckades: \"\n",
    "        print \" Fel: \", a\n",
    "        print \"Rätt: \", b"
   ]
  },
  {
   "cell_type": "markdown",
   "metadata": {},
   "source": [
    "### Fakta"
   ]
  },
  {
   "cell_type": "markdown",
   "metadata": {},
   "source": [
    "* _I Python är allting objekt._ \n",
    "* _Heltal, strängar, listor och ordlistor är exempel på objekt._\n",
    "* _En variabel är som en namnlapp på ett objekt._\n",
    "* _Ett objekt kan ha flera namnlappar samtidigt._\n",
    "* _Varje namnlapp förekommer bara en gång._"
   ]
  },
  {
   "cell_type": "code",
   "execution_count": 11,
   "metadata": {},
   "outputs": [],
   "source": [
    "a = 7      # a tilldelas värdet sju. Namnlappen \"a\" sätts på sjuan.\n",
    "a = a + 1  # a tilldelas värdet av x plus ett. \"a\" flyttas från sjuan till åttan.\n",
    "b = a      # Både a och b sitter på åttan."
   ]
  },
  {
   "cell_type": "code",
   "execution_count": 12,
   "metadata": {},
   "outputs": [],
   "source": [
    "assert a == 8        # Det gäller att a är åtta\n",
    "assert a + 2 == 10   \n",
    "assert a * 2 == 16\n",
    "assert a - 2 == 6                 \n",
    "assert a / 2 == 4\n",
    "assert a ** 2 == 64  # upphöjt till.  8*8\n",
    "assert 2 ** a == 256 #                2*2*2*2*2*2*2*2                       \n",
    "assert a % 2 == 0    # resten vid division med hela tal\n",
    "assert 9 % 2 == 1"
   ]
  },
  {
   "cell_type": "markdown",
   "metadata": {},
   "source": [
    "* _En funktion är som en maskin. _\n",
    "* _Man stoppar in en eller flera parametrar och får ut ett eller flera resultat._\n",
    "* _T ex f(x)=x+2. x är enda inparametern och x+2 är resultatet._"
   ]
  },
  {
   "cell_type": "code",
   "execution_count": 13,
   "metadata": {},
   "outputs": [],
   "source": [
    "def f(x): return x+2   # Skapa f(x) = x + 2\n",
    "assert f(8) == 10      # Det gäller att f av åtta är tio\n",
    "assert f(9) == 11      # Det gäller att f av nio är elva"
   ]
  },
  {
   "cell_type": "markdown",
   "metadata": {},
   "source": [
    "### Övningar"
   ]
  },
  {
   "cell_type": "code",
   "execution_count": 27,
   "metadata": {},
   "outputs": [
    {
     "name": "stdout",
     "output_type": "stream",
     "text": [
      "Assert misslyckades: \n",
      " Fel:  0\n",
      "Rätt:  5\n",
      "Assert misslyckades: \n",
      " Fel:  0\n",
      "Rätt:  -3\n"
     ]
    }
   ],
   "source": [
    "def e(x): return 0   # byt nollan mot något annat så att ass nedan stämmer.\n",
    "ass(e(5), 5)\n",
    "ass(e(-3), -3)"
   ]
  },
  {
   "cell_type": "code",
   "execution_count": 15,
   "metadata": {},
   "outputs": [
    {
     "name": "stdout",
     "output_type": "stream",
     "text": [
      "Assert misslyckades: \n",
      " Fel:  0\n",
      "Rätt:  -5\n",
      "Assert misslyckades: \n",
      " Fel:  0\n",
      "Rätt:  3\n"
     ]
    }
   ],
   "source": [
    "def g(x): return 0\n",
    "ass(g(5), -5)\n",
    "ass(g(-3), 3)"
   ]
  },
  {
   "cell_type": "code",
   "execution_count": 16,
   "metadata": {},
   "outputs": [
    {
     "name": "stdout",
     "output_type": "stream",
     "text": [
      "Assert misslyckades: \n",
      " Fel:  0\n",
      "Rätt:  9\n",
      "Assert misslyckades: \n",
      " Fel:  0\n",
      "Rätt:  16\n"
     ]
    }
   ],
   "source": [
    "def h(x): return 0\n",
    "ass(h(3), 9)\n",
    "ass(h(4), 16)"
   ]
  },
  {
   "cell_type": "code",
   "execution_count": 17,
   "metadata": {},
   "outputs": [
    {
     "name": "stdout",
     "output_type": "stream",
     "text": [
      "Assert misslyckades: \n",
      " Fel:  0\n",
      "Rätt:  8\n",
      "Assert misslyckades: \n",
      " Fel:  0\n",
      "Rätt:  16\n"
     ]
    }
   ],
   "source": [
    "def i(x): return 0\n",
    "ass(i(3), 8)\n",
    "ass(i(4), 16)"
   ]
  },
  {
   "cell_type": "code",
   "execution_count": 18,
   "metadata": {},
   "outputs": [
    {
     "name": "stdout",
     "output_type": "stream",
     "text": [
      "Assert misslyckades: \n",
      " Fel:  0\n",
      "Rätt:  1\n",
      "ok!\n"
     ]
    }
   ],
   "source": [
    "def j(x): return 0\n",
    "ass(j(3), 1)\n",
    "ass(j(4), 0)"
   ]
  },
  {
   "cell_type": "code",
   "execution_count": 19,
   "metadata": {},
   "outputs": [
    {
     "name": "stdout",
     "output_type": "stream",
     "text": [
      "Assert misslyckades: \n",
      " Fel:  0\n",
      "Rätt:  14\n",
      "Assert misslyckades: \n",
      " Fel:  0\n",
      "Rätt:  16\n"
     ]
    }
   ],
   "source": [
    "def k(x): return 0\n",
    "ass(k(7), 14)\n",
    "ass(k(8), 16)"
   ]
  },
  {
   "cell_type": "code",
   "execution_count": 20,
   "metadata": {},
   "outputs": [
    {
     "name": "stdout",
     "output_type": "stream",
     "text": [
      "Assert misslyckades: \n",
      " Fel:  0\n",
      "Rätt:  5\n",
      "Assert misslyckades: \n",
      " Fel:  0\n",
      "Rätt:  4\n"
     ]
    }
   ],
   "source": [
    "def m(x): return 0\n",
    "ass(m(10), 5)\n",
    "ass(m(8),4)"
   ]
  },
  {
   "cell_type": "code",
   "execution_count": 21,
   "metadata": {},
   "outputs": [
    {
     "name": "stdout",
     "output_type": "stream",
     "text": [
      "Assert misslyckades: \n",
      " Fel:  0\n",
      "Rätt:  3\n",
      "Assert misslyckades: \n",
      " Fel:  0\n",
      "Rätt:  5\n"
     ]
    }
   ],
   "source": [
    "def n(x): return 0\n",
    "ass(n(1), 3)\n",
    "ass(n(2), 5)"
   ]
  },
  {
   "cell_type": "code",
   "execution_count": 22,
   "metadata": {},
   "outputs": [
    {
     "name": "stdout",
     "output_type": "stream",
     "text": [
      "Assert misslyckades: \n",
      " Fel:  0\n",
      "Rätt:  9\n",
      "Assert misslyckades: \n",
      " Fel:  0\n",
      "Rätt:  5\n"
     ]
    }
   ],
   "source": [
    "def o(x,y): return 0\n",
    "ass(o(4,5), 9)\n",
    "ass(o(2,3), 5)"
   ]
  },
  {
   "cell_type": "code",
   "execution_count": 23,
   "metadata": {},
   "outputs": [
    {
     "name": "stdout",
     "output_type": "stream",
     "text": [
      "Assert misslyckades: \n",
      " Fel:  0\n",
      "Rätt:  20\n",
      "Assert misslyckades: \n",
      " Fel:  0\n",
      "Rätt:  6\n"
     ]
    }
   ],
   "source": [
    "def p(x,y): return 0\n",
    "ass(p(4,5), 20)\n",
    "ass(p(2,3), 6)"
   ]
  },
  {
   "cell_type": "code",
   "execution_count": 24,
   "metadata": {},
   "outputs": [
    {
     "name": "stdout",
     "output_type": "stream",
     "text": [
      "Assert misslyckades: \n",
      " Fel:  0\n",
      "Rätt:  2\n",
      "Assert misslyckades: \n",
      " Fel:  0\n",
      "Rätt:  2\n"
     ]
    }
   ],
   "source": [
    "def q(x,y): return 0\n",
    "ass(q(8,4), 2)\n",
    "ass(q(10,5), 2)"
   ]
  },
  {
   "cell_type": "code",
   "execution_count": 25,
   "metadata": {},
   "outputs": [
    {
     "name": "stdout",
     "output_type": "stream",
     "text": [
      "Assert misslyckades: \n",
      " Fel:  0\n",
      "Rätt:  8\n",
      "Assert misslyckades: \n",
      " Fel:  0\n",
      "Rätt:  9\n"
     ]
    }
   ],
   "source": [
    "def r(x,y): return 0\n",
    "ass(r(2,3), 8)\n",
    "ass(r(3,2), 9)"
   ]
  },
  {
   "cell_type": "code",
   "execution_count": 26,
   "metadata": {},
   "outputs": [
    {
     "name": "stdout",
     "output_type": "stream",
     "text": [
      "Assert misslyckades: \n",
      " Fel:  0\n",
      "Rätt:  11\n",
      "Assert misslyckades: \n",
      " Fel:  0\n",
      "Rätt:  19\n",
      "Assert misslyckades: \n",
      " Fel:  0\n",
      "Rätt:  29\n"
     ]
    }
   ],
   "source": [
    "def s(x): return 0  # allmän form: a*x*x + b*x + c. Välj a,b och c.\n",
    "ass(s(2), 11)\n",
    "ass(s(3), 19)\n",
    "ass(s(4), 29)"
   ]
  }
 ],
 "metadata": {
  "kernelspec": {
   "display_name": "Python 2",
   "language": "python",
   "name": "python2"
  },
  "language_info": {
   "codemirror_mode": {
    "name": "ipython",
    "version": 2.0
   },
   "file_extension": ".py",
   "mimetype": "text/x-python",
   "name": "python",
   "nbconvert_exporter": "python",
   "pygments_lexer": "ipython2",
   "version": "2.7.10"
  }
 },
 "nbformat": 4,
 "nbformat_minor": 0
}