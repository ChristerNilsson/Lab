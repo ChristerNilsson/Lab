{
 "cells": [
  {
   "cell_type": "code",
   "execution_count": 6,
   "metadata": {},
   "outputs": [],
   "source": [
    "def ass(a, b): \n",
    "    if a == b:\n",
    "        print  \"ok!\"\n",
    "    else:\n",
    "        print \"Assert misslyckades: \"\n",
    "        print \" Fel: \", a \n",
    "        print \"Rätt: \", b"
   ]
  },
  {
   "cell_type": "markdown",
   "metadata": {},
   "source": [
    "### Fakta"
   ]
  },
  {
   "cell_type": "markdown",
   "metadata": {},
   "source": [
    "* _En ordlista är som en lista, fast man använder bokstäver istället för siffror som index._\n",
    "* _Ordlistor kan innehålla allt möjligt. T ex tal, strängar, listor och andra ordlistor._"
   ]
  },
  {
   "cell_type": "code",
   "execution_count": 7,
   "metadata": {},
   "outputs": [],
   "source": [
    "a = {}\n",
    "a['name'] = 'Harald'\n",
    "assert a == {'name': 'Harald'}\n",
    "a['year'] = 2007\n",
    "assert a == {'name': 'Harald','year': 2007}\n",
    "assert len(a) == 2\n",
    "assert a.keys() == ['name','year']\n",
    "assert a.values() == ['Harald',2007]\n",
    "a.clear()\n",
    "assert a == {}\n",
    "b = {'name':'Jenny', 'kids': ['Viktor','Ivar','Harald']}\n",
    "assert b['kids'] == ['Viktor','Ivar','Harald']\n",
    "del b['kids'] \n",
    "assert b == {'name':'Jenny'}"
   ]
  },
  {
   "cell_type": "markdown",
   "metadata": {},
   "source": [
    "### Övningar"
   ]
  },
  {
   "cell_type": "code",
   "execution_count": 8,
   "metadata": {},
   "outputs": [],
   "source": [
    "b = {'name':'Jenny', 'kids': ['Viktor','Ivar','Harald']}"
   ]
  },
  {
   "cell_type": "code",
   "execution_count": 9,
   "metadata": {},
   "outputs": [
    {
     "name": "stdout",
     "output_type": "stream",
     "text": [
      "Assert misslyckades: \n",
      " Fel:  0\n",
      "Rätt:  2\n"
     ]
    }
   ],
   "source": [
    "def f(x): return 0\n",
    "ass(f(b), 2)"
   ]
  },
  {
   "cell_type": "code",
   "execution_count": 10,
   "metadata": {},
   "outputs": [
    {
     "name": "stdout",
     "output_type": "stream",
     "text": [
      "Assert misslyckades: \n",
      " Fel:  \n",
      "Rätt:  Jenny\n"
     ]
    }
   ],
   "source": [
    "def g(x): return ''\n",
    "ass(g(b), 'Jenny')"
   ]
  },
  {
   "cell_type": "code",
   "execution_count": 11,
   "metadata": {},
   "outputs": [
    {
     "name": "stdout",
     "output_type": "stream",
     "text": [
      "Assert misslyckades: \n",
      " Fel:  []\n",
      "Rätt:  ['Viktor', 'Ivar', 'Harald']\n"
     ]
    }
   ],
   "source": [
    "def h(x): return []\n",
    "ass(h(b), ['Viktor','Ivar','Harald'])"
   ]
  },
  {
   "cell_type": "code",
   "execution_count": 12,
   "metadata": {},
   "outputs": [
    {
     "name": "stdout",
     "output_type": "stream",
     "text": [
      "Assert misslyckades: \n",
      " Fel:  0\n",
      "Rätt:  3\n"
     ]
    }
   ],
   "source": [
    "def i(x): return 0\n",
    "ass(i(b), 3)"
   ]
  },
  {
   "cell_type": "code",
   "execution_count": 13,
   "metadata": {},
   "outputs": [
    {
     "name": "stdout",
     "output_type": "stream",
     "text": [
      "Assert misslyckades: \n",
      " Fel:  []\n",
      "Rätt:  ['kids', 'name']\n"
     ]
    }
   ],
   "source": [
    "def j(x): return []\n",
    "ass(j(b), ['kids', 'name'])"
   ]
  },
  {
   "cell_type": "code",
   "execution_count": 14,
   "metadata": {},
   "outputs": [
    {
     "name": "stdout",
     "output_type": "stream",
     "text": [
      "Assert misslyckades: \n",
      " Fel:  []\n",
      "Rätt:  [['Viktor', 'Ivar', 'Harald'], 'Jenny']\n"
     ]
    }
   ],
   "source": [
    "def k(x): return []\n",
    "ass(k(b), [['Viktor','Ivar','Harald'],'Jenny'])"
   ]
  }
 ],
 "metadata": {
  "kernelspec": {
   "display_name": "Python 2",
   "language": "python",
   "name": "python2"
  },
  "language_info": {
   "codemirror_mode": {
    "name": "ipython",
    "version": 2.0
   },
   "file_extension": ".py",
   "mimetype": "text/x-python",
   "name": "python",
   "nbconvert_exporter": "python",
   "pygments_lexer": "ipython2",
   "version": "2.7.10"
  }
 },
 "nbformat": 4,
 "nbformat_minor": 0
}