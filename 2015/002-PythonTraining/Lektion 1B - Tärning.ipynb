{
 "cells": [
  {
   "cell_type": "code",
   "execution_count": 27,
   "metadata": {},
   "outputs": [],
   "source": [
    "def ass(a, b): \n",
    "    if a == b:\n",
    "        print \"ok!\"\n",
    "    else:\n",
    "        print \"Assert misslyckades: \"\n",
    "        print \" Fel: \", a\n",
    "        print \"Rätt: \", b"
   ]
  },
  {
   "cell_type": "code",
   "execution_count": 28,
   "metadata": {},
   "outputs": [],
   "source": [
    "import random"
   ]
  },
  {
   "cell_type": "code",
   "execution_count": 33,
   "metadata": {},
   "outputs": [
    {
     "name": "stdout",
     "output_type": "stream",
     "text": [
      "ok!\n",
      "ok!\n",
      "ok!\n",
      "ok!\n"
     ]
    }
   ],
   "source": [
    "class Dice():\n",
    "    def __init__(self, n=6, seed=0.0):  # uttalas \"dunder init\"\n",
    "        self.n = n \n",
    "        random.seed(seed)\n",
    "    def throw(self):\n",
    "        return random.randint(1, self.n)\n",
    "    \n",
    "def f(n,seed,count):\n",
    "    dice = Dice(n=n, seed=seed)\n",
    "    return [dice.throw() for i in range(count)]\n",
    "    \n",
    "ass(f(6, 0.0, 10),  [6, 5, 3, 2, 4, 3, 5, 2, 3, 4])\n",
    "ass(f(6, 0.1, 10),  [1, 4, 1, 2, 2, 1, 1, 2, 4, 1])\n",
    "ass(f(10, 0.0, 20), [9, 8, 5, 3, 6, 5, 8, 4, 5, 6, 10, 6, 3, 8, 7, 3, 10, 10, 9, 10])\n",
    "ass(f(10, 0.9, 20), [5, 7, 9, 1, 5, 10, 4, 1, 7, 10, 6, 3, 7, 1, 1, 10, 4, 3, 5, 4])"
   ]
  }
 ],
 "metadata": {
  "kernelspec": {
   "display_name": "Python 2",
   "language": "python",
   "name": "python2"
  },
  "language_info": {
   "codemirror_mode": {
    "name": "ipython",
    "version": 2.0
   },
   "file_extension": ".py",
   "mimetype": "text/x-python",
   "name": "python",
   "nbconvert_exporter": "python",
   "pygments_lexer": "ipython2",
   "version": "2.7.10"
  }
 },
 "nbformat": 4,
 "nbformat_minor": 0
}