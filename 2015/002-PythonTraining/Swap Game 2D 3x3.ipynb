{
 "cells": [
  {
   "cell_type": "code",
   "execution_count": 5,
   "metadata": {
    "collapsed": false
   },
   "outputs": [],
   "source": [
    "# Spelet går ut på att man ska ta sig från en matris till en annan matris \n",
    "#   med hjälp av sex-åtta operationer\n",
    "# Minst antal operationer är målsättningen\n",
    "# Operationerna är:\n",
    "#   u = rotate rows up\n",
    "#   d = rotate rows down\n",
    "#   r = reverse rows\n",
    "#   t = transpose\n",
    "#   > = right shift cells\n",
    "#   < = left shift cells\n",
    "#   c = clock wise rotate\n",
    "#   a = anti clock wise rotate\n",
    "\n",
    "def stringify(m):\n",
    "    return [''.join(row) for row in m]\n",
    "    \n",
    "def transpose(b):\n",
    "    m = map(list, zip(*b))\n",
    "    return stringify(m)\n",
    "\n",
    "def flatten(b):\n",
    "    res = [item for sublist in b for item in sublist]\n",
    "    return res\n",
    "\n",
    "def unflatten(b):\n",
    "    res = [b[0:3],b[3:6],b[6:9]]\n",
    "    return res\n",
    "\n",
    "def rotate(b):\n",
    "    res = [b[8]] + b[0:8]\n",
    "    return res\n",
    "\n",
    "def unrotate(b):\n",
    "    res = b[1:9] + [b[0]]\n",
    "    return res\n",
    "    \n",
    "def turn(b, ops):\n",
    "    b = b.split()\n",
    "    hash = {}\n",
    "    hash['u'] = lambda s : [s[1],s[2],s[0]]\n",
    "    hash['d'] = lambda s : [s[2],s[0],s[1]]\n",
    "    hash['r'] = lambda s : [s[2],s[1],s[0]]\n",
    "    hash['t'] = lambda s : transpose(s)\n",
    "    hash['>'] = lambda s : stringify(unflatten(rotate(flatten(s))))\n",
    "    hash['<'] = lambda s : stringify(unflatten(unrotate(flatten(s))))\n",
    "    for op in ops:\n",
    "        b = hash[op](b)\n",
    "    return ' '.join(b)"
   ]
  },
  {
   "cell_type": "code",
   "execution_count": 6,
   "metadata": {
    "collapsed": false
   },
   "outputs": [],
   "source": [
    "board = 'abc def ghi'\n",
    "assert turn(board,'u') == 'def ghi abc'\n",
    "assert turn(board,'d') == 'ghi abc def'\n",
    "assert turn(board,'r') == 'ghi def abc'\n",
    "assert turn(board,'t') == 'adg beh cfi'\n",
    "assert turn(board,'>') == 'iab cde fgh'\n",
    "assert turn(board,'<') == 'bcd efg hia'"
   ]
  },
  {
   "cell_type": "code",
   "execution_count": 7,
   "metadata": {
    "collapsed": true
   },
   "outputs": [],
   "source": [
    "assert turn(board,'uuu') == board\n",
    "assert turn(board,'ddd') == board\n",
    "assert turn(board,'rr') == board\n",
    "assert turn(board,'tt') == board\n",
    "assert turn(board,'>>>>>>>>>') == board\n",
    "assert turn(board,'<<<<<<<<<') == board"
   ]
  },
  {
   "cell_type": "code",
   "execution_count": 8,
   "metadata": {
    "collapsed": false
   },
   "outputs": [],
   "source": [
    "board = '000 111 222'\n",
    "assert turn('111 222 000','d') == board\n",
    "assert turn('222 000 111','u') == board\n",
    "assert turn('222 111 000','r') == board\n",
    "assert turn('012 012 012','t') == board"
   ]
  },
  {
   "cell_type": "code",
   "execution_count": 21,
   "metadata": {
    "collapsed": false
   },
   "outputs": [],
   "source": [
    "assert turn('000 222 111','rd') == board\n",
    "assert turn('000 222 111','ur') == board\n",
    "assert turn('012 012 012','dt') == board\n",
    "assert turn('012 012 012','rt') == board\n",
    "assert turn('012 012 012','ut') == board\n",
    "assert turn('120 120 120','td') == board\n",
    "assert turn('111 000 222','dr') == board\n",
    "assert turn('111 000 222','ru') == board\n",
    "assert turn('222 000 111','dd') == board\n",
    "assert turn('111 222 000','uu') == board\n",
    "assert turn('201 201 201','tu') == board\n",
    "assert turn('210 210 210','tr') == board"
   ]
  },
  {
   "cell_type": "code",
   "execution_count": 61,
   "metadata": {
    "collapsed": false
   },
   "outputs": [
    {
     "name": "stdout",
     "output_type": "stream",
     "text": [
      "['111 222 000', '222 000 111', '222 111 000', '012 012 012', '001 112 220', '200 011 122'] 6\n"
     ]
    }
   ],
   "source": [
    "board = '000 111 222'\n",
    "def expand(board, n):\n",
    "    q = [board]\n",
    "    solutions = {board : 0}\n",
    "    q2 = []\n",
    "    res = []\n",
    "    for i in range(n):\n",
    "        for b in q:\n",
    "            for op in 'udrt<>':\n",
    "                b2 = turn(b,op)\n",
    "                if b2 not in solutions:\n",
    "                    solutions[b2] = i+1\n",
    "                    q2.append(b2)\n",
    "                    if i == (n-1):\n",
    "                        res.append(b2)\n",
    "        q = q2\n",
    "        q2 = []\n",
    "    return res\n",
    "\n",
    "lst = expand(board,1)\n",
    "print lst,len(lst)"
   ]
  },
  {
   "cell_type": "code",
   "execution_count": 41,
   "metadata": {
    "collapsed": false
   },
   "outputs": [],
   "source": [
    "def solve(s):\n",
    "    solutions = { s : ('', '') }\n",
    "    queue = [(s,'')]\n",
    "    while True:\n",
    "        s,ops = queue.pop(0)\n",
    "        if s == '000 111 222':\n",
    "            return ops\n",
    "        for op in 'udrt<>':\n",
    "            t = turn(s, op)\n",
    "            if t not in solutions:\n",
    "                solutions[t] = (s, ops + op)\n",
    "                queue.append((t,ops+op))"
   ]
  },
  {
   "cell_type": "code",
   "execution_count": 58,
   "metadata": {
    "collapsed": false
   },
   "outputs": [],
   "source": [
    "assert solve('001 112 220') == '>'\n",
    "assert solve('120 120 120') == 'td'\n",
    "assert solve('012 120 012') == 'dt>'\n",
    "assert solve('112 220 010') == 't>t>'\n",
    "assert solve('010 022 211') == 't<t<r'\n",
    "assert solve('001 122 201') == '>t<td>'\n",
    "assert solve('220 121 010') == 'urtd<t>'\n",
    "assert solve('210 212 001') == 'td>rt>t<'\n",
    "assert solve('022 210 101') == 'ut<tu>tr<'\n",
    "assert solve('021 120 021') == 'u<tdr<t>t>'"
   ]
  },
  {
   "cell_type": "code",
   "execution_count": 60,
   "metadata": {
    "collapsed": false
   },
   "outputs": [
    {
     "data": {
      "text/plain": [
       "1680"
      ]
     },
     "execution_count": 60,
     "metadata": {},
     "output_type": "execute_result"
    }
   ],
   "source": [
    "1+6+15+30+61+126+268+466+519+179+9"
   ]
  },
  {
   "cell_type": "code",
   "execution_count": 62,
   "metadata": {
    "collapsed": false
   },
   "outputs": [
    {
     "data": {
      "text/plain": [
       "63063000"
      ]
     },
     "execution_count": 62,
     "metadata": {},
     "output_type": "execute_result"
    }
   ],
   "source": [
    "10*14*13*11*5*9*7*2*5"
   ]
  },
  {
   "cell_type": "code",
   "execution_count": 64,
   "metadata": {
    "collapsed": false
   },
   "outputs": [
    {
     "data": {
      "text/plain": [
       "63063000"
      ]
     },
     "execution_count": 64,
     "metadata": {},
     "output_type": "execute_result"
    }
   ],
   "source": [
    "1+6+18+44+119+328+889+2358+6180+15667+39294+97386+236298+562467+1275870+2737811+5496817+9885781+14779573+16030795+9688281+2111750+94543+724"
   ]
  },
  {
   "cell_type": "code",
   "execution_count": 6,
   "metadata": {
    "collapsed": false
   },
   "outputs": [
    {
     "data": {
      "text/plain": [
       "40.95"
      ]
     },
     "execution_count": 6,
     "metadata": {},
     "output_type": "execute_result"
    }
   ],
   "source": [
    "blad = 63063000/77/2/4.0\n",
    "kartonger = blad/2500\n",
    "kartonger"
   ]
  }
 ],
 "metadata": {
  "kernelspec": {
   "display_name": "Python 2",
   "language": "python",
   "name": "python2"
  },
  "language_info": {
   "codemirror_mode": {
    "name": "ipython",
    "version": 2
   },
   "file_extension": ".py",
   "mimetype": "text/x-python",
   "name": "python",
   "nbconvert_exporter": "python",
   "pygments_lexer": "ipython2",
   "version": "2.7.10"
  }
 },
 "nbformat": 4,
 "nbformat_minor": 0
}
